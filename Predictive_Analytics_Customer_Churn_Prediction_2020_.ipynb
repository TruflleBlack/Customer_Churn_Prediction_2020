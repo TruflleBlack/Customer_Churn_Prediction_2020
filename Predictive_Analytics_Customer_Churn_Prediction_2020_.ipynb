{
  "nbformat": 4,
  "nbformat_minor": 0,
  "metadata": {
    "colab": {
      "provenance": [],
      "collapsed_sections": [
        "NamYlCshS9fc",
        "O0G58q7_J-r_",
        "256hNfDXfuRC",
        "l7JkYf8DmTv8"
      ]
    },
    "kernelspec": {
      "name": "python3",
      "display_name": "Python 3"
    },
    "language_info": {
      "name": "python"
    }
  },
  "cells": [
    {
      "cell_type": "markdown",
      "source": [
        "# Data Understanding"
      ],
      "metadata": {
        "id": "NamYlCshS9fc"
      }
    },
    {
      "cell_type": "markdown",
      "source": [
        "## Importing python modules"
      ],
      "metadata": {
        "id": "uHSXJO3fQkMj"
      }
    },
    {
      "cell_type": "code",
      "source": [
        "!pip install opendatasets\n",
        "!pip install pandas"
      ],
      "metadata": {
        "colab": {
          "base_uri": "https://localhost:8080/"
        },
        "id": "Z13KEoP3PoQe",
        "outputId": "af2deebd-9651-4bce-ce99-f3cd5f25feb5"
      },
      "execution_count": null,
      "outputs": [
        {
          "output_type": "stream",
          "name": "stdout",
          "text": [
            "Looking in indexes: https://pypi.org/simple, https://us-python.pkg.dev/colab-wheels/public/simple/\n",
            "Requirement already satisfied: opendatasets in /usr/local/lib/python3.8/dist-packages (0.1.22)\n",
            "Requirement already satisfied: tqdm in /usr/local/lib/python3.8/dist-packages (from opendatasets) (4.64.1)\n",
            "Requirement already satisfied: kaggle in /usr/local/lib/python3.8/dist-packages (from opendatasets) (1.5.12)\n",
            "Requirement already satisfied: click in /usr/local/lib/python3.8/dist-packages (from opendatasets) (7.1.2)\n",
            "Requirement already satisfied: python-dateutil in /usr/local/lib/python3.8/dist-packages (from kaggle->opendatasets) (2.8.2)\n",
            "Requirement already satisfied: python-slugify in /usr/local/lib/python3.8/dist-packages (from kaggle->opendatasets) (7.0.0)\n",
            "Requirement already satisfied: requests in /usr/local/lib/python3.8/dist-packages (from kaggle->opendatasets) (2.25.1)\n",
            "Requirement already satisfied: certifi in /usr/local/lib/python3.8/dist-packages (from kaggle->opendatasets) (2022.12.7)\n",
            "Requirement already satisfied: urllib3 in /usr/local/lib/python3.8/dist-packages (from kaggle->opendatasets) (1.24.3)\n",
            "Requirement already satisfied: six>=1.10 in /usr/local/lib/python3.8/dist-packages (from kaggle->opendatasets) (1.15.0)\n",
            "Requirement already satisfied: text-unidecode>=1.3 in /usr/local/lib/python3.8/dist-packages (from python-slugify->kaggle->opendatasets) (1.3)\n",
            "Requirement already satisfied: idna<3,>=2.5 in /usr/local/lib/python3.8/dist-packages (from requests->kaggle->opendatasets) (2.10)\n",
            "Requirement already satisfied: chardet<5,>=3.0.2 in /usr/local/lib/python3.8/dist-packages (from requests->kaggle->opendatasets) (4.0.0)\n",
            "Looking in indexes: https://pypi.org/simple, https://us-python.pkg.dev/colab-wheels/public/simple/\n",
            "Requirement already satisfied: pandas in /usr/local/lib/python3.8/dist-packages (1.3.5)\n",
            "Requirement already satisfied: numpy>=1.17.3 in /usr/local/lib/python3.8/dist-packages (from pandas) (1.21.6)\n",
            "Requirement already satisfied: python-dateutil>=2.7.3 in /usr/local/lib/python3.8/dist-packages (from pandas) (2.8.2)\n",
            "Requirement already satisfied: pytz>=2017.3 in /usr/local/lib/python3.8/dist-packages (from pandas) (2022.7)\n",
            "Requirement already satisfied: six>=1.5 in /usr/local/lib/python3.8/dist-packages (from python-dateutil>=2.7.3->pandas) (1.15.0)\n"
          ]
        }
      ]
    },
    {
      "cell_type": "code",
      "execution_count": null,
      "metadata": {
        "id": "S8O7UfryO1N1"
      },
      "outputs": [],
      "source": [
        "import opendatasets as od\n",
        "import pandas as pd\n",
        "import seaborn as sns\n",
        "import matplotlib.pyplot as plt\n",
        "%matplotlib inline\n",
        "from sklearn.model_selection import train_test_split\n",
        "from sklearn.model_selection import cross_val_score\n",
        "from sklearn.metrics import accuracy_score\n",
        "from sklearn.metrics import plot_confusion_matrix, classification_report\n",
        "from sklearn.ensemble import ExtraTreesClassifier\n",
        "from sklearn.ensemble import RandomForestClassifier\n",
        "from sklearn.tree import DecisionTreeClassifier\n",
        "from sklearn.ensemble import AdaBoostClassifier\n",
        "from sklearn.svm import SVC\n",
        "from sklearn.naive_bayes import GaussianNB\n",
        "from sklearn.metrics import mean_squared_error"
      ]
    },
    {
      "cell_type": "markdown",
      "source": [
        "## Load Data in a Dataframe using pandas"
      ],
      "metadata": {
        "id": "oh4T9xHZS1f6"
      }
    },
    {
      "cell_type": "code",
      "source": [
        "df=pd.read_csv(\"drive/MyDrive/Dataset/train.csv\")\n",
        "df.tail()"
      ],
      "metadata": {
        "colab": {
          "base_uri": "https://localhost:8080/",
          "height": 270
        },
        "id": "hFlyyiSGPr4U",
        "outputId": "75f06a01-eb1b-44a9-acac-00d47ca07286"
      },
      "execution_count": null,
      "outputs": [
        {
          "output_type": "execute_result",
          "data": {
            "text/plain": [
              "     state  account_length      area_code international_plan voice_mail_plan  \\\n",
              "4245    MT              83  area_code_415                 no              no   \n",
              "4246    WV              73  area_code_408                 no              no   \n",
              "4247    NC              75  area_code_408                 no              no   \n",
              "4248    HI              50  area_code_408                 no             yes   \n",
              "4249    VT              86  area_code_415                 no             yes   \n",
              "\n",
              "      number_vmail_messages  total_day_minutes  total_day_calls  \\\n",
              "4245                      0              188.3               70   \n",
              "4246                      0              177.9               89   \n",
              "4247                      0              170.7              101   \n",
              "4248                     40              235.7              127   \n",
              "4249                     34              129.4              102   \n",
              "\n",
              "      total_day_charge  total_eve_minutes  total_eve_calls  total_eve_charge  \\\n",
              "4245             32.01              243.8               88             20.72   \n",
              "4246             30.24              131.2               82             11.15   \n",
              "4247             29.02              193.1              126             16.41   \n",
              "4248             40.07              223.0              126             18.96   \n",
              "4249             22.00              267.1              104             22.70   \n",
              "\n",
              "      total_night_minutes  total_night_calls  total_night_charge  \\\n",
              "4245                213.7                 79                9.62   \n",
              "4246                186.2                 89                8.38   \n",
              "4247                129.1                104                5.81   \n",
              "4248                297.5                116               13.39   \n",
              "4249                154.8                100                6.97   \n",
              "\n",
              "      total_intl_minutes  total_intl_calls  total_intl_charge  \\\n",
              "4245                10.3                 6               2.78   \n",
              "4246                11.5                 6               3.11   \n",
              "4247                 6.9                 7               1.86   \n",
              "4248                 9.9                 5               2.67   \n",
              "4249                 9.3                16               2.51   \n",
              "\n",
              "      number_customer_service_calls churn  \n",
              "4245                              0    no  \n",
              "4246                              3    no  \n",
              "4247                              1    no  \n",
              "4248                              2    no  \n",
              "4249                              0    no  "
            ],
            "text/html": [
              "\n",
              "  <div id=\"df-eb3a9db7-a828-4ce1-b171-308897cbf8fb\">\n",
              "    <div class=\"colab-df-container\">\n",
              "      <div>\n",
              "<style scoped>\n",
              "    .dataframe tbody tr th:only-of-type {\n",
              "        vertical-align: middle;\n",
              "    }\n",
              "\n",
              "    .dataframe tbody tr th {\n",
              "        vertical-align: top;\n",
              "    }\n",
              "\n",
              "    .dataframe thead th {\n",
              "        text-align: right;\n",
              "    }\n",
              "</style>\n",
              "<table border=\"1\" class=\"dataframe\">\n",
              "  <thead>\n",
              "    <tr style=\"text-align: right;\">\n",
              "      <th></th>\n",
              "      <th>state</th>\n",
              "      <th>account_length</th>\n",
              "      <th>area_code</th>\n",
              "      <th>international_plan</th>\n",
              "      <th>voice_mail_plan</th>\n",
              "      <th>number_vmail_messages</th>\n",
              "      <th>total_day_minutes</th>\n",
              "      <th>total_day_calls</th>\n",
              "      <th>total_day_charge</th>\n",
              "      <th>total_eve_minutes</th>\n",
              "      <th>total_eve_calls</th>\n",
              "      <th>total_eve_charge</th>\n",
              "      <th>total_night_minutes</th>\n",
              "      <th>total_night_calls</th>\n",
              "      <th>total_night_charge</th>\n",
              "      <th>total_intl_minutes</th>\n",
              "      <th>total_intl_calls</th>\n",
              "      <th>total_intl_charge</th>\n",
              "      <th>number_customer_service_calls</th>\n",
              "      <th>churn</th>\n",
              "    </tr>\n",
              "  </thead>\n",
              "  <tbody>\n",
              "    <tr>\n",
              "      <th>4245</th>\n",
              "      <td>MT</td>\n",
              "      <td>83</td>\n",
              "      <td>area_code_415</td>\n",
              "      <td>no</td>\n",
              "      <td>no</td>\n",
              "      <td>0</td>\n",
              "      <td>188.3</td>\n",
              "      <td>70</td>\n",
              "      <td>32.01</td>\n",
              "      <td>243.8</td>\n",
              "      <td>88</td>\n",
              "      <td>20.72</td>\n",
              "      <td>213.7</td>\n",
              "      <td>79</td>\n",
              "      <td>9.62</td>\n",
              "      <td>10.3</td>\n",
              "      <td>6</td>\n",
              "      <td>2.78</td>\n",
              "      <td>0</td>\n",
              "      <td>no</td>\n",
              "    </tr>\n",
              "    <tr>\n",
              "      <th>4246</th>\n",
              "      <td>WV</td>\n",
              "      <td>73</td>\n",
              "      <td>area_code_408</td>\n",
              "      <td>no</td>\n",
              "      <td>no</td>\n",
              "      <td>0</td>\n",
              "      <td>177.9</td>\n",
              "      <td>89</td>\n",
              "      <td>30.24</td>\n",
              "      <td>131.2</td>\n",
              "      <td>82</td>\n",
              "      <td>11.15</td>\n",
              "      <td>186.2</td>\n",
              "      <td>89</td>\n",
              "      <td>8.38</td>\n",
              "      <td>11.5</td>\n",
              "      <td>6</td>\n",
              "      <td>3.11</td>\n",
              "      <td>3</td>\n",
              "      <td>no</td>\n",
              "    </tr>\n",
              "    <tr>\n",
              "      <th>4247</th>\n",
              "      <td>NC</td>\n",
              "      <td>75</td>\n",
              "      <td>area_code_408</td>\n",
              "      <td>no</td>\n",
              "      <td>no</td>\n",
              "      <td>0</td>\n",
              "      <td>170.7</td>\n",
              "      <td>101</td>\n",
              "      <td>29.02</td>\n",
              "      <td>193.1</td>\n",
              "      <td>126</td>\n",
              "      <td>16.41</td>\n",
              "      <td>129.1</td>\n",
              "      <td>104</td>\n",
              "      <td>5.81</td>\n",
              "      <td>6.9</td>\n",
              "      <td>7</td>\n",
              "      <td>1.86</td>\n",
              "      <td>1</td>\n",
              "      <td>no</td>\n",
              "    </tr>\n",
              "    <tr>\n",
              "      <th>4248</th>\n",
              "      <td>HI</td>\n",
              "      <td>50</td>\n",
              "      <td>area_code_408</td>\n",
              "      <td>no</td>\n",
              "      <td>yes</td>\n",
              "      <td>40</td>\n",
              "      <td>235.7</td>\n",
              "      <td>127</td>\n",
              "      <td>40.07</td>\n",
              "      <td>223.0</td>\n",
              "      <td>126</td>\n",
              "      <td>18.96</td>\n",
              "      <td>297.5</td>\n",
              "      <td>116</td>\n",
              "      <td>13.39</td>\n",
              "      <td>9.9</td>\n",
              "      <td>5</td>\n",
              "      <td>2.67</td>\n",
              "      <td>2</td>\n",
              "      <td>no</td>\n",
              "    </tr>\n",
              "    <tr>\n",
              "      <th>4249</th>\n",
              "      <td>VT</td>\n",
              "      <td>86</td>\n",
              "      <td>area_code_415</td>\n",
              "      <td>no</td>\n",
              "      <td>yes</td>\n",
              "      <td>34</td>\n",
              "      <td>129.4</td>\n",
              "      <td>102</td>\n",
              "      <td>22.00</td>\n",
              "      <td>267.1</td>\n",
              "      <td>104</td>\n",
              "      <td>22.70</td>\n",
              "      <td>154.8</td>\n",
              "      <td>100</td>\n",
              "      <td>6.97</td>\n",
              "      <td>9.3</td>\n",
              "      <td>16</td>\n",
              "      <td>2.51</td>\n",
              "      <td>0</td>\n",
              "      <td>no</td>\n",
              "    </tr>\n",
              "  </tbody>\n",
              "</table>\n",
              "</div>\n",
              "      <button class=\"colab-df-convert\" onclick=\"convertToInteractive('df-eb3a9db7-a828-4ce1-b171-308897cbf8fb')\"\n",
              "              title=\"Convert this dataframe to an interactive table.\"\n",
              "              style=\"display:none;\">\n",
              "        \n",
              "  <svg xmlns=\"http://www.w3.org/2000/svg\" height=\"24px\"viewBox=\"0 0 24 24\"\n",
              "       width=\"24px\">\n",
              "    <path d=\"M0 0h24v24H0V0z\" fill=\"none\"/>\n",
              "    <path d=\"M18.56 5.44l.94 2.06.94-2.06 2.06-.94-2.06-.94-.94-2.06-.94 2.06-2.06.94zm-11 1L8.5 8.5l.94-2.06 2.06-.94-2.06-.94L8.5 2.5l-.94 2.06-2.06.94zm10 10l.94 2.06.94-2.06 2.06-.94-2.06-.94-.94-2.06-.94 2.06-2.06.94z\"/><path d=\"M17.41 7.96l-1.37-1.37c-.4-.4-.92-.59-1.43-.59-.52 0-1.04.2-1.43.59L10.3 9.45l-7.72 7.72c-.78.78-.78 2.05 0 2.83L4 21.41c.39.39.9.59 1.41.59.51 0 1.02-.2 1.41-.59l7.78-7.78 2.81-2.81c.8-.78.8-2.07 0-2.86zM5.41 20L4 18.59l7.72-7.72 1.47 1.35L5.41 20z\"/>\n",
              "  </svg>\n",
              "      </button>\n",
              "      \n",
              "  <style>\n",
              "    .colab-df-container {\n",
              "      display:flex;\n",
              "      flex-wrap:wrap;\n",
              "      gap: 12px;\n",
              "    }\n",
              "\n",
              "    .colab-df-convert {\n",
              "      background-color: #E8F0FE;\n",
              "      border: none;\n",
              "      border-radius: 50%;\n",
              "      cursor: pointer;\n",
              "      display: none;\n",
              "      fill: #1967D2;\n",
              "      height: 32px;\n",
              "      padding: 0 0 0 0;\n",
              "      width: 32px;\n",
              "    }\n",
              "\n",
              "    .colab-df-convert:hover {\n",
              "      background-color: #E2EBFA;\n",
              "      box-shadow: 0px 1px 2px rgba(60, 64, 67, 0.3), 0px 1px 3px 1px rgba(60, 64, 67, 0.15);\n",
              "      fill: #174EA6;\n",
              "    }\n",
              "\n",
              "    [theme=dark] .colab-df-convert {\n",
              "      background-color: #3B4455;\n",
              "      fill: #D2E3FC;\n",
              "    }\n",
              "\n",
              "    [theme=dark] .colab-df-convert:hover {\n",
              "      background-color: #434B5C;\n",
              "      box-shadow: 0px 1px 3px 1px rgba(0, 0, 0, 0.15);\n",
              "      filter: drop-shadow(0px 1px 2px rgba(0, 0, 0, 0.3));\n",
              "      fill: #FFFFFF;\n",
              "    }\n",
              "  </style>\n",
              "\n",
              "      <script>\n",
              "        const buttonEl =\n",
              "          document.querySelector('#df-eb3a9db7-a828-4ce1-b171-308897cbf8fb button.colab-df-convert');\n",
              "        buttonEl.style.display =\n",
              "          google.colab.kernel.accessAllowed ? 'block' : 'none';\n",
              "\n",
              "        async function convertToInteractive(key) {\n",
              "          const element = document.querySelector('#df-eb3a9db7-a828-4ce1-b171-308897cbf8fb');\n",
              "          const dataTable =\n",
              "            await google.colab.kernel.invokeFunction('convertToInteractive',\n",
              "                                                     [key], {});\n",
              "          if (!dataTable) return;\n",
              "\n",
              "          const docLinkHtml = 'Like what you see? Visit the ' +\n",
              "            '<a target=\"_blank\" href=https://colab.research.google.com/notebooks/data_table.ipynb>data table notebook</a>'\n",
              "            + ' to learn more about interactive tables.';\n",
              "          element.innerHTML = '';\n",
              "          dataTable['output_type'] = 'display_data';\n",
              "          await google.colab.output.renderOutput(dataTable, element);\n",
              "          const docLink = document.createElement('div');\n",
              "          docLink.innerHTML = docLinkHtml;\n",
              "          element.appendChild(docLink);\n",
              "        }\n",
              "      </script>\n",
              "    </div>\n",
              "  </div>\n",
              "  "
            ]
          },
          "metadata": {},
          "execution_count": 52
        }
      ]
    },
    {
      "cell_type": "code",
      "source": [
        "df.iloc[552]"
      ],
      "metadata": {
        "colab": {
          "base_uri": "https://localhost:8080/"
        },
        "id": "9UiPiChNSRT_",
        "outputId": "84a8c622-b106-41b0-c9ea-35362005460d"
      },
      "execution_count": null,
      "outputs": [
        {
          "output_type": "execute_result",
          "data": {
            "text/plain": [
              "state                                       ND\n",
              "account_length                             147\n",
              "area_code                        area_code_408\n",
              "international_plan                          no\n",
              "voice_mail_plan                             no\n",
              "number_vmail_messages                        0\n",
              "total_day_minutes                        205.3\n",
              "total_day_calls                             95\n",
              "total_day_charge                          34.9\n",
              "total_eve_minutes                        166.7\n",
              "total_eve_calls                            128\n",
              "total_eve_charge                         14.17\n",
              "total_night_minutes                      240.6\n",
              "total_night_calls                           84\n",
              "total_night_charge                       10.83\n",
              "total_intl_minutes                         7.8\n",
              "total_intl_calls                             4\n",
              "total_intl_charge                         2.11\n",
              "number_customer_service_calls                1\n",
              "churn                                       no\n",
              "Name: 552, dtype: object"
            ]
          },
          "metadata": {},
          "execution_count": 53
        }
      ]
    },
    {
      "cell_type": "markdown",
      "source": [
        "## Variable Description"
      ],
      "metadata": {
        "id": "6nmGuQdITCwT"
      }
    },
    {
      "cell_type": "code",
      "source": [
        "df.info()"
      ],
      "metadata": {
        "colab": {
          "base_uri": "https://localhost:8080/"
        },
        "id": "qAn3a0dcTJoP",
        "outputId": "06f08ed1-e086-4187-8d95-969d6aa99b47"
      },
      "execution_count": null,
      "outputs": [
        {
          "output_type": "stream",
          "name": "stdout",
          "text": [
            "<class 'pandas.core.frame.DataFrame'>\n",
            "RangeIndex: 4250 entries, 0 to 4249\n",
            "Data columns (total 20 columns):\n",
            " #   Column                         Non-Null Count  Dtype  \n",
            "---  ------                         --------------  -----  \n",
            " 0   state                          4250 non-null   object \n",
            " 1   account_length                 4250 non-null   int64  \n",
            " 2   area_code                      4250 non-null   object \n",
            " 3   international_plan             4250 non-null   object \n",
            " 4   voice_mail_plan                4250 non-null   object \n",
            " 5   number_vmail_messages          4250 non-null   int64  \n",
            " 6   total_day_minutes              4250 non-null   float64\n",
            " 7   total_day_calls                4250 non-null   int64  \n",
            " 8   total_day_charge               4250 non-null   float64\n",
            " 9   total_eve_minutes              4250 non-null   float64\n",
            " 10  total_eve_calls                4250 non-null   int64  \n",
            " 11  total_eve_charge               4250 non-null   float64\n",
            " 12  total_night_minutes            4250 non-null   float64\n",
            " 13  total_night_calls              4250 non-null   int64  \n",
            " 14  total_night_charge             4250 non-null   float64\n",
            " 15  total_intl_minutes             4250 non-null   float64\n",
            " 16  total_intl_calls               4250 non-null   int64  \n",
            " 17  total_intl_charge              4250 non-null   float64\n",
            " 18  number_customer_service_calls  4250 non-null   int64  \n",
            " 19  churn                          4250 non-null   object \n",
            "dtypes: float64(8), int64(7), object(5)\n",
            "memory usage: 664.2+ KB\n"
          ]
        }
      ]
    },
    {
      "cell_type": "markdown",
      "source": [
        "## Count the number of missing values in each column"
      ],
      "metadata": {
        "id": "8Iy9Mg18Tbw1"
      }
    },
    {
      "cell_type": "code",
      "source": [
        "df.isna().sum()"
      ],
      "metadata": {
        "colab": {
          "base_uri": "https://localhost:8080/"
        },
        "id": "rUJ_37bjTdOY",
        "outputId": "1eced55e-bc6e-412c-fc32-a272d611b959"
      },
      "execution_count": null,
      "outputs": [
        {
          "output_type": "execute_result",
          "data": {
            "text/plain": [
              "state                            0\n",
              "account_length                   0\n",
              "area_code                        0\n",
              "international_plan               0\n",
              "voice_mail_plan                  0\n",
              "number_vmail_messages            0\n",
              "total_day_minutes                0\n",
              "total_day_calls                  0\n",
              "total_day_charge                 0\n",
              "total_eve_minutes                0\n",
              "total_eve_calls                  0\n",
              "total_eve_charge                 0\n",
              "total_night_minutes              0\n",
              "total_night_calls                0\n",
              "total_night_charge               0\n",
              "total_intl_minutes               0\n",
              "total_intl_calls                 0\n",
              "total_intl_charge                0\n",
              "number_customer_service_calls    0\n",
              "churn                            0\n",
              "dtype: int64"
            ]
          },
          "metadata": {},
          "execution_count": 55
        }
      ]
    },
    {
      "cell_type": "code",
      "source": [
        "df.shape"
      ],
      "metadata": {
        "colab": {
          "base_uri": "https://localhost:8080/"
        },
        "id": "vYa4artxThuZ",
        "outputId": "87008c73-0054-4826-f4e9-7106ead897c5"
      },
      "execution_count": null,
      "outputs": [
        {
          "output_type": "execute_result",
          "data": {
            "text/plain": [
              "(4250, 20)"
            ]
          },
          "metadata": {},
          "execution_count": 56
        }
      ]
    },
    {
      "cell_type": "markdown",
      "source": [
        "## See how many unique entries there are"
      ],
      "metadata": {
        "id": "YW12GiXcUCgK"
      }
    },
    {
      "cell_type": "code",
      "source": [
        "print('State : ',df.state.unique())\n",
        "print('Account Length : ',df.account_length.unique())\n",
        "print('Area Code : ',df.area_code.unique())\n",
        "print('International Plan : ',df.international_plan.unique())\n",
        "print('Voice Mail Plan : ',df.voice_mail_plan.unique())\n",
        "print('Number Vmail Messages : ',df.number_vmail_messages.unique())\n",
        "print('Total Day Minutes : ',df.total_day_minutes.unique())\n",
        "print('Total Day Calls : ',df.total_day_calls.unique())\n",
        "print('Total Day Charge : ',df.total_day_charge.unique())\n",
        "print('Total Eve Minutes : ',df.total_eve_minutes.unique())\n",
        "print('Total Eve Calls : ',df.total_eve_calls.unique())\n",
        "print('Total Eve Charge : ',df.total_eve_charge.unique())\n",
        "print('Total Night Minutes : ',df.total_night_minutes.unique())\n",
        "print('Total Night Calls : ',df.total_night_calls.unique())\n",
        "print('Total Night Charge : ',df.total_night_charge.unique())\n",
        "print('Total Intl Minutes : ',df.total_intl_minutes.unique())\n",
        "print('Total Intl Calls : ',df.total_intl_calls.unique())\n",
        "print('Total Intl Charge : ',df.total_intl_charge.unique())\n",
        "print('Number Customer Service Calls : ',df.number_customer_service_calls.unique())\n",
        "print('Churn : ',df.churn.unique())"
      ],
      "metadata": {
        "colab": {
          "base_uri": "https://localhost:8080/"
        },
        "id": "rR-PPXiiTogu",
        "outputId": "2ca8fdc7-7ff4-4e6e-ae7e-037b40ade3f6"
      },
      "execution_count": null,
      "outputs": [
        {
          "output_type": "stream",
          "name": "stdout",
          "text": [
            "State :  ['OH' 'NJ' 'OK' 'MA' 'MO' 'LA' 'WV' 'IN' 'RI' 'IA' 'MT' 'NY' 'ID' 'VA'\n",
            " 'TX' 'FL' 'CO' 'AZ' 'SC' 'WY' 'HI' 'NH' 'AK' 'GA' 'MD' 'AR' 'WI' 'OR'\n",
            " 'MI' 'DE' 'UT' 'CA' 'SD' 'NC' 'WA' 'MN' 'NM' 'NV' 'DC' 'VT' 'KY' 'ME'\n",
            " 'MS' 'AL' 'NE' 'KS' 'TN' 'IL' 'PA' 'CT' 'ND']\n",
            "Account Length :  [107 137  84  75 121 147 117 141  65  74 168  95 161  85  76  73  77 130\n",
            " 111 132  57  54  20  49  12  36  78 136  98 135  34 160  64  59 142  97\n",
            "  52  60  10  96  81 125 174 116 149  38  40  43 113 126 150 138 162  90\n",
            "  50  82 144  46  70 128  94 155  80  99 120 108 122  93 157  63  41 193\n",
            "  61  92 163  91 127 110 103 145  56 151  83 139   6 115  62 185 148  32\n",
            "  68  25 179  67  19 170 106  51 118 208 131  53 105  66  35  88 123  45\n",
            " 100 215  22  33  86 114  24 119 101 146 143  48 167  89 199 166 158 196\n",
            " 112 209  16  39 104 129  55  44  79 159 194  87  21 133 224 140  58 109\n",
            "  71  72 124 102 165  18  30 190  47 152  26  69  31 186 171  28 153 172\n",
            " 169  13 189 176 156  37  27 134 243  42  23   1 200   5 178 181 182 217\n",
            " 164 177  11   9 173 154  29 180   3   2   7 232 192 195 197 225 191 201\n",
            "  15  17 183 212 210 175   4 184 188 204 221 187  14 216 222   8 202]\n",
            "Area Code :  ['area_code_415' 'area_code_408' 'area_code_510']\n",
            "International Plan :  ['no' 'yes']\n",
            "Voice Mail Plan :  ['yes' 'no']\n",
            "Number Vmail Messages :  [26  0 24 37 27 33 39 25 30 41 28 34 46 29 35 21 42 22 36 23 43 31 38 40\n",
            " 32 48 18 17 45 16 20 14 19 15 11 12 47  8 44 49  4 10 13 50  6 52]\n",
            "Total Day Minutes :  [161.6 243.4 299.4 ... 188.7   7.2 170. ]\n",
            "Total Day Calls :  [123 114  71 113  88  79  97  84 137 127  96  67 139  66  90 117  89 112\n",
            " 103  86 115  73 109 105 118  94 128  64 106 102  85  82  77 120 133 135\n",
            " 108  57  98 129  83  92  74  93  70 101 146  72  99 104 125  61 100 110\n",
            "  87 131  65 124 119  52  68 107  47 121 116 126  91 122 111 145  76  95\n",
            "  80  78 140 148  81  55  69 136 158 134 130  63  53 141  75  59 132 138\n",
            "  54 151  62 144 147  36  40 150  56  58  51 165  30  48  60  42   0  45\n",
            " 160 143 152 142 156  35  49 157  44  50  34  46]\n",
            "Total Day Charge :  [27.47 41.38 50.9  ... 32.08  1.22 28.9 ]\n",
            "Total Eve Minutes :  [195.5 121.2  61.9 ... 276.6 280.6 340.3]\n",
            "Total Eve Calls :  [103 110  88 122 108  94  80 111  83 148  71  75  97  90  65  93 121  99\n",
            " 102  72 112 100  84 109 107 119 116  85  98 118  92  74  58  96 115  66\n",
            "  67  62  77 126 142  64 104 117  79  86 101  76 105  81 106 113  59  48\n",
            "  95  87 123 114 140 128  60 125  91  46 138 129 133 136  57 135 139  51\n",
            "  70  89  82  78  63 134  73 152 168 120  69 127 132 137 143  68 124  54\n",
            " 131  52  61  56 130 146  55  12 157 155 147  45  50 144  36 156  53 141\n",
            "  44 153 154 149 151 150  43   0 145 159 170  47 169  38  49]\n",
            "Total Eve Charge :  [16.62 10.3   5.26 ... 23.51 23.85 28.93]\n",
            "Total Night Minutes :  [254.4 162.6 196.9 ... 162.   75.1 297.5]\n",
            "Total Night Calls :  [103 104  89 121 118  96  90  97 111  94 128 115  75 108  74 133  64  78\n",
            " 105  68 102  98 116 109 107 135  92  86 127  79  87 129  57  77  95  54\n",
            " 106  53  67 139  60 100  61  99  73 113  76 119  84  62  91  72 114  88\n",
            " 126 122 123 117  82  80 120 130  71  59 112 132 142 101 150  69 131 110\n",
            "  83  93 124 136 125  81  66 143  58  55  85  70  46  42 152  44  50 153\n",
            "  49 175  63 138 134 154 140 141 146  65  51 151 137 158 155 157 147 145\n",
            " 148 144 149  56  52  33 156  38  36  48 164  40 161 159 160 170  41 165\n",
            "  43   0]\n",
            "Total Night Charge :  [11.45  7.32  8.86  8.41  9.57  9.53  9.71 14.69  9.4   8.82  6.35  8.65\n",
            "  7.23  4.02  7.46  8.68  9.43  8.18  8.53 10.67  8.22  4.59  8.17  8.04\n",
            " 11.08 12.61  9.61  5.82 10.25  4.58  8.45  5.5  14.02  8.03 11.94  7.34\n",
            "  6.06 10.9   3.18 10.66 11.21 12.73 10.28 12.16  6.34  8.15  8.52  7.5\n",
            "  7.48 11.95  7.15  9.63  7.1   6.91  6.69 13.29 11.46  7.76  6.86  8.47\n",
            "  8.16 12.15  7.79  7.99 10.29 10.08 12.53 10.02 14.54  8.21  9.09  4.93\n",
            " 11.39 11.88  5.75  7.83  8.59  7.52 12.38  7.21  5.81 11.04 11.19  8.55\n",
            "  8.42  9.76 10.86  5.36 11.15  9.51  6.22  2.59  7.65  9.    6.4   9.94\n",
            "  5.08 10.23 11.36  6.97 10.16  7.88  6.61 11.55 11.76  9.27  9.29 11.12\n",
            " 11.85  7.14  8.71 11.42  4.94  9.02 11.22  7.27 12.91  7.75 13.46  6.32\n",
            " 12.13 11.97  6.93 11.66  7.42 11.41 10.65 11.92  4.77  4.38 12.1  11.01\n",
            "  7.69  8.78  9.36  9.05 12.7   6.16  6.05 10.85  8.93  3.48 10.4  10.71\n",
            "  9.37  6.75  8.12 11.77 11.49 11.06 11.25 11.03 10.82  8.91  8.57  8.09\n",
            " 10.05 11.7  10.17  8.74 10.13  8.49  9.55 11.02  9.91  7.84 10.62  9.97\n",
            "  3.44  7.35  9.79  8.89  8.14  6.94 10.49 10.57 10.2   8.79 10.04  9.1\n",
            " 11.78 12.75 11.07 12.56  8.63  8.02 10.42  8.7   9.98  7.62  8.33  6.59\n",
            " 13.12 10.46  8.32  9.04  9.28  9.14 10.76  9.15  9.64 11.44  6.48 11.34\n",
            "  8.75 13.05 11.48 14.04 13.47  5.63  6.6  11.68  6.41  9.32  9.62  6.03\n",
            "  8.25  8.26 11.96  9.9   9.23  5.58  7.22  6.64 12.93 11.32  6.85  8.88\n",
            "  7.03  8.48  3.59  5.86  6.23  7.61  7.66 13.63  7.9  11.82  7.47  6.08\n",
            "  8.4   5.74 10.35 10.68  4.34  9.18  8.73  5.51  8.24  9.99 13.93  8.64\n",
            "  5.79  9.2  10.14 12.11  7.53  8.46  8.95  9.84 10.8  11.23 10.15  9.21\n",
            "  6.67  9.66  9.59 10.48  8.36  4.84  8.39  7.43  8.94 11.13  8.87  8.5\n",
            "  7.6   9.87  9.56 10.77  7.73  3.47 11.86  8.11  9.78  9.42  9.65  7.\n",
            "  7.39  9.88  6.56  6.95 15.71  8.06  7.8   8.58 10.06  5.21  6.92  6.15\n",
            " 13.49  9.38 12.62  8.19 11.65 10.83  7.92  7.33 13.26 12.22  5.05 11.58\n",
            "  5.97 10.99  8.38  9.17 11.28  8.08 12.63 11.79 12.96  7.64  6.58 10.84\n",
            " 10.22  4.86  5.55  7.63  5.11  5.89 10.78  6.88  3.05 11.89  8.97 10.5\n",
            "  9.35  5.66  9.83  5.44 10.11  6.39 11.93  8.62 12.06  6.02  8.85  8.66\n",
            " 11.59 13.87  7.77 10.39  5.54  6.62 13.33  6.24 12.59  6.3   6.79  8.28\n",
            "  9.03  8.07  5.52 12.14 10.59 11.11  7.67  8.81  8.51 13.45  8.77  6.43\n",
            " 12.01 12.08 11.91  6.51  6.84  8.1  13.78 11.54 11.67  9.48  8.13 10.79\n",
            "  9.72  7.13  4.72  4.64 13.03  6.07  3.51  6.83  9.31  9.58  5.32  9.26\n",
            " 11.52  9.11  5.71 11.47  9.3  13.82  8.44  5.77 10.96 11.74  8.9  10.47\n",
            "  7.85 10.92  4.74  9.74 10.43 12.95  9.96 10.18  7.89 12.36 10.07  7.3\n",
            "  5.83 11.16 10.19  5.47 10.88  5.8   7.19  8.31  8.01 14.43  8.3  14.3\n",
            "  6.52  6.53  8.2  11.31 10.54 13.    6.42  4.24  7.44  7.54  7.51 13.1\n",
            "  9.49  8.76 12.83 10.56 12.09  5.39  2.96  7.59  7.24  4.28  9.7  13.3\n",
            " 11.37  9.33  5.01  3.26 10.21 11.71  8.43  9.68 15.56  9.8   3.61  6.96\n",
            "  6.44 10.87 13.84  5.03  5.17  2.03  8.83  9.34  7.95 10.09  7.11  9.22\n",
            " 11.05  9.89 14.06 13.31 15.43  6.27 10.64 11.5  12.48 13.53 10.36 12.24\n",
            "  8.69 10.52  9.07 11.51  6.73  9.95  8.72  6.78 11.84  5.78  7.41  5.85\n",
            " 12.3   5.76 12.07  9.6   8.84 12.39  9.73  2.85  6.66  7.91  2.45 11.73\n",
            " 10.75  7.74  6.76  6.    7.58 11.62 13.69  7.93  7.68  9.75  4.96  5.49\n",
            " 11.83  7.18  7.25 10.74  4.27 13.8  10.94  9.12  4.75  7.78  7.55  2.25\n",
            " 10.26  9.45  9.86  7.71  4.95 11.17 11.33  6.82 11.63 13.7   1.97 10.89\n",
            " 12.77 10.31  9.41 11.43  8.54  6.09  6.12  7.57  3.67 12.69  5.95  7.87\n",
            "  5.96  5.94 12.23  4.9  12.33  6.89  9.67 12.68 12.87  3.7   6.04 13.13\n",
            " 15.74 11.87  4.7   4.67  7.05  5.42  4.09  5.73  9.47 10.44  8.29  5.23\n",
            "  6.87  3.71 15.86  7.49 11.69  6.46 10.45 12.9   5.41 11.26  1.04  8.8\n",
            "  6.49 12.21  6.77 12.65  7.86  9.44  4.3  13.37  5.02 10.33 10.63  2.86\n",
            " 17.19  8.67  8.37  6.9  10.93 10.38  7.36 10.95  6.11  4.45 11.9  15.01\n",
            " 12.84  7.45  6.45  8.61 10.61 11.72  7.56  6.29 11.38 10.    4.42  9.81\n",
            "  6.01 10.12 12.4  16.99  6.63  5.68 11.64 10.73  9.54  3.78  7.82  9.85\n",
            " 13.74  7.4  12.71 10.98 10.01  9.52  7.31  8.35 11.35  9.46  9.5  14.03\n",
            "  9.16  7.72 10.7  10.6   6.37 13.02  9.77 12.58 12.35 12.66  7.29 12.2\n",
            " 11.4  13.91  3.57  5.14 14.65 12.28  5.99  5.13 10.72 12.86 14.    7.12\n",
            "  6.8  12.17  4.71  6.28  8.    7.01  5.91 12.   12.02  6.72 12.88  7.28\n",
            "  5.4  12.04  5.24 10.3  13.41 12.72  7.08 13.5   5.35 12.45  5.3  10.32\n",
            " 12.67 10.27  5.22  5.57  3.94 13.27 10.24 10.81  4.25 12.89  5.72 12.5\n",
            " 11.29  3.25  9.82 10.41  7.26  4.1  10.37  4.98  6.74 12.52 14.56  8.34\n",
            "  3.82  3.86 13.97 12.29 11.53 11.57  6.5   9.08 13.58  6.13 14.32 14.18\n",
            "  9.13  4.46  4.83  7.38  7.16  7.98 13.66 14.78 11.2   9.93 11.    5.29\n",
            "  4.29 11.1  10.51  8.96 12.49  4.04 12.94 10.03  7.09  6.71  7.94  5.31\n",
            "  5.98  7.07  7.2  14.82 10.34 13.21 12.81 13.22 12.32 10.58  4.92  6.2\n",
            "  4.47 11.98 10.69  6.18  7.81  5.37  7.17  4.23 14.1   5.7   5.27 12.18\n",
            "  8.98  9.19  5.1  13.95 16.55 11.18  4.44  4.73  2.55  8.99  6.31  2.43\n",
            "  9.24  7.37 13.42  4.68 12.42 11.8   3.29 14.45  2.89 10.55 12.6  13.18\n",
            " 12.19  9.39  6.65 11.3  12.27 13.98 15.49  6.47 13.48 13.59 13.25  8.23\n",
            " 17.77 13.9   3.97 11.56 14.08 13.6   4.61  6.98 12.76 11.09 15.76  6.38\n",
            "  6.21  9.06 12.8   5.9   7.97 11.27  5.   10.97 12.34 12.03 14.97 12.85\n",
            "  5.84  6.54  8.27 11.24 12.64  5.38 13.14  8.6   9.69  3.99  3.32 10.1\n",
            "  7.06  9.92  3.93  2.4   4.03  9.25 15.85  6.81 14.25 14.09 16.42  6.7\n",
            "  5.15 12.74 14.67  5.88 12.12  6.68  8.05 11.81  7.96  5.06 13.16  2.13\n",
            " 13.17  5.12  6.26 14.5   5.65 12.37 10.53 11.14 13.51  6.1   9.01 17.17\n",
            " 12.51  4.49 12.47 13.38  5.18  4.63 13.65 13.44  5.48 12.55  3.91 11.61\n",
            "  8.92 12.46 13.01 12.43  5.46  5.67 14.31 14.81  3.39  3.56  2.1  10.91\n",
            "  8.56 13.94  4.99  6.99  7.7  14.98  6.33  4.97 14.12 16.2  13.07 13.54\n",
            " 13.57 14.8   4.55  5.19 12.41  7.04 11.75 13.36  3.84  5.56  6.17 14.28\n",
            " 14.48  5.43  6.36  2.93 13.83 11.6   4.5  13.06  4.32  4.21  3.92 12.57\n",
            "  3.2   2.68 13.99  5.92  4.36  6.14 13.11  6.57 12.97 13.4  13.24  4.78\n",
            "  5.6  14.61 13.73 13.32  0.   14.95 15.98  6.19  4.56  5.26  5.04  5.62\n",
            "  2.71 14.73  5.28  4.51  4.65  3.65  3.38 13.39]\n",
            "Total Intl Minutes :  [13.7 12.2  6.6 10.1  7.5  7.1  8.7 11.2 12.7  9.1 12.3  5.4 13.8 10.\n",
            " 13.  10.6  5.7  9.5  7.7 10.3 14.7  6.3 11.1 11.8  8.3 14.5 10.5  9.4\n",
            " 14.6  9.2  3.5  8.5 13.2  7.4 11.   7.8  6.8 11.4  9.3 10.2  8.   5.8\n",
            " 12.  11.6 12.6  8.2  6.2 12.1  7.3  6.1 11.7 15.   9.8  8.6 10.9 13.9\n",
            "  8.9  7.9  5.3  4.4 12.5 11.3  9.   9.6 13.3 20.  14.2 13.1  7.2  6.4\n",
            " 12.4 14.1  6.9 11.5 15.8 12.8 16.2  0.  11.9  9.9  8.4 10.8  8.8 13.4\n",
            "  9.7 10.7  4.7  2.7 13.5 12.9 14.4 10.4  6.7 15.4  6.5 15.6  5.9 18.9\n",
            "  7.6  7.  14.  18.  14.8  3.7  4.8  5.  16.  15.3 14.3 13.6 17.2  8.1\n",
            " 17.5  5.6 18.2  3.6 16.5  4.6  5.1  4.1  6.  15.5 16.3 16.4 16.7  1.3\n",
            " 15.2 15.1 15.9  5.5 14.9  4.  16.9  5.2  4.2 15.7  3.8 16.1  2.2 17.1\n",
            "  4.9  4.5 17.9 17.3 18.4  2.   4.3  2.9 17.6  2.6  3.4  1.1  3.3 17.\n",
            " 18.3 16.6  2.1  2.4  2.5  3.9 17.8 16.8  0.4 19.3 19.2 19.7 18.5 17.7]\n",
            "Total Intl Calls :  [ 3  5  7  6  4  2  9 19  1 15  8 10 11  0 12 13 18 14 16 20 17]\n",
            "Total Intl Charge :  [3.7  3.29 1.78 2.73 2.03 1.92 2.35 3.02 3.43 2.46 3.32 1.46 3.73 2.7\n",
            " 3.51 2.86 1.54 2.57 2.08 2.78 3.97 1.7  3.   3.19 2.24 3.92 2.84 2.54\n",
            " 3.94 2.48 0.95 2.3  3.56 2.   2.97 2.11 1.84 3.08 2.51 2.75 2.16 1.57\n",
            " 3.24 3.13 3.4  2.21 1.67 3.27 1.97 1.65 3.16 4.05 2.65 2.32 2.94 3.75\n",
            " 2.4  2.13 1.43 1.19 3.38 3.05 2.43 2.59 3.59 5.4  3.83 3.54 1.94 1.73\n",
            " 3.35 3.81 1.86 3.11 4.27 3.46 4.37 0.   3.21 2.67 2.27 2.92 2.38 3.62\n",
            " 2.62 2.89 1.27 0.73 3.65 3.48 3.89 2.81 1.81 4.16 1.76 4.21 1.59 5.1\n",
            " 2.05 1.89 3.78 4.86 4.   1.   1.3  1.35 4.32 4.13 3.86 3.67 4.64 2.19\n",
            " 4.73 1.51 4.91 0.97 4.46 1.24 1.38 1.11 1.62 4.19 4.4  4.43 4.51 0.35\n",
            " 4.1  4.08 4.29 1.49 4.02 1.08 4.56 1.4  1.13 4.24 1.03 4.35 0.59 4.62\n",
            " 1.32 1.22 4.83 4.67 4.97 0.54 1.16 0.78 4.75 0.7  0.92 0.3  0.89 4.59\n",
            " 4.94 4.48 0.57 0.65 0.68 1.05 4.81 4.54 0.11 5.21 5.18 5.32 5.   4.78]\n",
            "Number Customer Service Calls :  [1 0 2 3 4 5 7 9 6 8]\n",
            "Churn :  ['no' 'yes']\n"
          ]
        }
      ]
    },
    {
      "cell_type": "markdown",
      "source": [
        "## Detecting Outliers"
      ],
      "metadata": {
        "id": "VFiVnRYLX-Ar"
      }
    },
    {
      "cell_type": "code",
      "source": [
        "sns.boxplot(x=df['account_length'])"
      ],
      "metadata": {
        "colab": {
          "base_uri": "https://localhost:8080/",
          "height": 298
        },
        "id": "UWf5t-jAX26M",
        "outputId": "103d7a7b-912a-4af2-c47e-c9fa907a44ee"
      },
      "execution_count": null,
      "outputs": [
        {
          "output_type": "execute_result",
          "data": {
            "text/plain": [
              "<matplotlib.axes._subplots.AxesSubplot at 0x7f6b42287a60>"
            ]
          },
          "metadata": {},
          "execution_count": 58
        },
        {
          "output_type": "display_data",
          "data": {
            "text/plain": [
              "<Figure size 432x288 with 1 Axes>"
            ],
            "image/png": "[encoded data removed]"
          },
          "metadata": {
            "needs_background": "light"
          }
        }
      ]
    },
    {
      "cell_type": "code",
      "source": [
        "sns.boxplot(x=df['number_vmail_messages'])"
      ],
      "metadata": {
        "colab": {
          "base_uri": "https://localhost:8080/",
          "height": 298
        },
        "id": "8fv95Bd6YMAJ",
        "outputId": "73626f5a-65c5-4161-e75d-4735e9fdf6a3"
      },
      "execution_count": null,
      "outputs": [
        {
          "output_type": "execute_result",
          "data": {
            "text/plain": [
              "<matplotlib.axes._subplots.AxesSubplot at 0x7f6b3a808b20>"
            ]
          },
          "metadata": {},
          "execution_count": 59
        },
        {
          "output_type": "display_data",
          "data": {
            "text/plain": [
              "<Figure size 432x288 with 1 Axes>"
            ],
            "image/png": "[encoded data removed]"
          },
          "metadata": {
            "needs_background": "light"
          }
        }
      ]
    },
    {
      "cell_type": "code",
      "source": [
        "sns.boxplot(x=df['total_day_minutes'])"
      ],
      "metadata": {
        "colab": {
          "base_uri": "https://localhost:8080/",
          "height": 298
        },
        "id": "3AloU8xcYS_t",
        "outputId": "87029c01-677b-4fb4-e217-4156ab88ba25"
      },
      "execution_count": null,
      "outputs": [
        {
          "output_type": "execute_result",
          "data": {
            "text/plain": [
              "<matplotlib.axes._subplots.AxesSubplot at 0x7f6b3a7f3b50>"
            ]
          },
          "metadata": {},
          "execution_count": 60
        },
        {
          "output_type": "display_data",
          "data": {
            "text/plain": [
              "<Figure size 432x288 with 1 Axes>"
            ],
            "image/png": "[encoded data removed]"
          },
          "metadata": {
            "needs_background": "light"
          }
        }
      ]
    },
    {
      "cell_type": "code",
      "source": [
        "sns.boxplot(x=df['total_day_calls'])"
      ],
      "metadata": {
        "colab": {
          "base_uri": "https://localhost:8080/",
          "height": 298
        },
        "id": "_z3lzV39YngK",
        "outputId": "78e03180-c459-4e2c-d0f4-3f3d4ca65281"
      },
      "execution_count": null,
      "outputs": [
        {
          "output_type": "execute_result",
          "data": {
            "text/plain": [
              "<matplotlib.axes._subplots.AxesSubplot at 0x7f6b3abc4580>"
            ]
          },
          "metadata": {},
          "execution_count": 61
        },
        {
          "output_type": "display_data",
          "data": {
            "text/plain": [
              "<Figure size 432x288 with 1 Axes>"
            ],
            "image/png": "[encoded data removed]"
          },
          "metadata": {
            "needs_background": "light"
          }
        }
      ]
    },
    {
      "cell_type": "code",
      "source": [
        "sns.boxplot(x=df['total_eve_minutes'])"
      ],
      "metadata": {
        "colab": {
          "base_uri": "https://localhost:8080/",
          "height": 298
        },
        "id": "X33iBNNBZTML",
        "outputId": "ac666108-28a0-49dd-a043-20a8c2963adf"
      },
      "execution_count": null,
      "outputs": [
        {
          "output_type": "execute_result",
          "data": {
            "text/plain": [
              "<matplotlib.axes._subplots.AxesSubplot at 0x7f6b3a831700>"
            ]
          },
          "metadata": {},
          "execution_count": 62
        },
        {
          "output_type": "display_data",
          "data": {
            "text/plain": [
              "<Figure size 432x288 with 1 Axes>"
            ],
            "image/png": "[encoded data removed]"
          },
          "metadata": {
            "needs_background": "light"
          }
        }
      ]
    },
    {
      "cell_type": "code",
      "source": [
        "sns.boxplot(x=df['total_eve_calls'])"
      ],
      "metadata": {
        "colab": {
          "base_uri": "https://localhost:8080/",
          "height": 298
        },
        "id": "q5O_xb1RZXox",
        "outputId": "2c07ded8-dc47-4f89-a297-2f3a5a7d8ba8"
      },
      "execution_count": null,
      "outputs": [
        {
          "output_type": "execute_result",
          "data": {
            "text/plain": [
              "<matplotlib.axes._subplots.AxesSubplot at 0x7f6b3aac8ca0>"
            ]
          },
          "metadata": {},
          "execution_count": 63
        },
        {
          "output_type": "display_data",
          "data": {
            "text/plain": [
              "<Figure size 432x288 with 1 Axes>"
            ],
            "image/png": "[encoded data removed]"
          },
          "metadata": {
            "needs_background": "light"
          }
        }
      ]
    },
    {
      "cell_type": "code",
      "source": [
        "sns.boxplot(x=df['total_eve_charge'])"
      ],
      "metadata": {
        "colab": {
          "base_uri": "https://localhost:8080/",
          "height": 298
        },
        "id": "qAFuLjYKZb70",
        "outputId": "16d29975-4c67-40c2-8325-929f68287359"
      },
      "execution_count": null,
      "outputs": [
        {
          "output_type": "execute_result",
          "data": {
            "text/plain": [
              "<matplotlib.axes._subplots.AxesSubplot at 0x7f6b3a96f730>"
            ]
          },
          "metadata": {},
          "execution_count": 64
        },
        {
          "output_type": "display_data",
          "data": {
            "text/plain": [
              "<Figure size 432x288 with 1 Axes>"
            ],
            "image/png": "[encoded data removed]"
          },
          "metadata": {
            "needs_background": "light"
          }
        }
      ]
    },
    {
      "cell_type": "code",
      "source": [
        "sns.boxplot(x=df['total_night_minutes'])"
      ],
      "metadata": {
        "colab": {
          "base_uri": "https://localhost:8080/",
          "height": 298
        },
        "id": "42edHdboZfYX",
        "outputId": "a9ef9ea7-7960-4c89-8c62-8a440376f41a"
      },
      "execution_count": null,
      "outputs": [
        {
          "output_type": "execute_result",
          "data": {
            "text/plain": [
              "<matplotlib.axes._subplots.AxesSubplot at 0x7f6b3a9ad850>"
            ]
          },
          "metadata": {},
          "execution_count": 65
        },
        {
          "output_type": "display_data",
          "data": {
            "text/plain": [
              "<Figure size 432x288 with 1 Axes>"
            ],
            "image/png": "[encoded data removed]"
          },
          "metadata": {
            "needs_background": "light"
          }
        }
      ]
    },
    {
      "cell_type": "code",
      "source": [
        "sns.boxplot(x=df['total_night_calls'])"
      ],
      "metadata": {
        "colab": {
          "base_uri": "https://localhost:8080/",
          "height": 298
        },
        "id": "BiXNV7RYZi_0",
        "outputId": "611eab29-559a-4a34-80fc-f619bf280374"
      },
      "execution_count": null,
      "outputs": [
        {
          "output_type": "execute_result",
          "data": {
            "text/plain": [
              "<matplotlib.axes._subplots.AxesSubplot at 0x7f6b3d354c70>"
            ]
          },
          "metadata": {},
          "execution_count": 66
        },
        {
          "output_type": "display_data",
          "data": {
            "text/plain": [
              "<Figure size 432x288 with 1 Axes>"
            ],
            "image/png": "[encoded data removed]"
          },
          "metadata": {
            "needs_background": "light"
          }
        }
      ]
    },
    {
      "cell_type": "code",
      "source": [
        "sns.boxplot(x=df['total_night_charge'])"
      ],
      "metadata": {
        "colab": {
          "base_uri": "https://localhost:8080/",
          "height": 298
        },
        "id": "t6e82ktRZmRO",
        "outputId": "f5dcb860-9318-4d83-df21-aa5d8e0989a8"
      },
      "execution_count": null,
      "outputs": [
        {
          "output_type": "execute_result",
          "data": {
            "text/plain": [
              "<matplotlib.axes._subplots.AxesSubplot at 0x7f6b3aaf7b80>"
            ]
          },
          "metadata": {},
          "execution_count": 67
        },
        {
          "output_type": "display_data",
          "data": {
            "text/plain": [
              "<Figure size 432x288 with 1 Axes>"
            ],
            "image/png": "[encoded data removed]"
          },
          "metadata": {
            "needs_background": "light"
          }
        }
      ]
    },
    {
      "cell_type": "code",
      "source": [
        "sns.boxplot(x=df['total_intl_minutes'])"
      ],
      "metadata": {
        "colab": {
          "base_uri": "https://localhost:8080/",
          "height": 298
        },
        "id": "eekU5dp1Z0Xw",
        "outputId": "03a2db94-2fbc-48ea-9276-1c44f5512f73"
      },
      "execution_count": null,
      "outputs": [
        {
          "output_type": "execute_result",
          "data": {
            "text/plain": [
              "<matplotlib.axes._subplots.AxesSubplot at 0x7f6b3a96f910>"
            ]
          },
          "metadata": {},
          "execution_count": 68
        },
        {
          "output_type": "display_data",
          "data": {
            "text/plain": [
              "<Figure size 432x288 with 1 Axes>"
            ],
            "image/png": "[encoded data removed]"
          },
          "metadata": {
            "needs_background": "light"
          }
        }
      ]
    },
    {
      "cell_type": "code",
      "source": [
        "sns.boxplot(x=df['total_intl_calls'])"
      ],
      "metadata": {
        "colab": {
          "base_uri": "https://localhost:8080/",
          "height": 298
        },
        "id": "3LXzKyp1Zxep",
        "outputId": "af209825-dc7d-47a4-b197-592aafa93bf4"
      },
      "execution_count": null,
      "outputs": [
        {
          "output_type": "execute_result",
          "data": {
            "text/plain": [
              "<matplotlib.axes._subplots.AxesSubplot at 0x7f6b3ac1ba00>"
            ]
          },
          "metadata": {},
          "execution_count": 69
        },
        {
          "output_type": "display_data",
          "data": {
            "text/plain": [
              "<Figure size 432x288 with 1 Axes>"
            ],
            "image/png": "[encoded data removed]"
          },
          "metadata": {
            "needs_background": "light"
          }
        }
      ]
    },
    {
      "cell_type": "code",
      "source": [
        "sns.boxplot(x=df['total_intl_charge'])"
      ],
      "metadata": {
        "colab": {
          "base_uri": "https://localhost:8080/",
          "height": 298
        },
        "id": "ydBWj_9cZpv-",
        "outputId": "05daafb2-93ee-4329-9763-a1e776ab8800"
      },
      "execution_count": null,
      "outputs": [
        {
          "output_type": "execute_result",
          "data": {
            "text/plain": [
              "<matplotlib.axes._subplots.AxesSubplot at 0x7f6b3acada60>"
            ]
          },
          "metadata": {},
          "execution_count": 70
        },
        {
          "output_type": "display_data",
          "data": {
            "text/plain": [
              "<Figure size 432x288 with 1 Axes>"
            ],
            "image/png": "[encoded data removed]"
          },
          "metadata": {
            "needs_background": "light"
          }
        }
      ]
    },
    {
      "cell_type": "code",
      "source": [
        "sns.boxplot(x=df['number_customer_service_calls'])"
      ],
      "metadata": {
        "colab": {
          "base_uri": "https://localhost:8080/",
          "height": 298
        },
        "id": "LeZtrutrZ5-d",
        "outputId": "db6b7852-68a1-46cf-ff84-a8cb29f03624"
      },
      "execution_count": null,
      "outputs": [
        {
          "output_type": "execute_result",
          "data": {
            "text/plain": [
              "<matplotlib.axes._subplots.AxesSubplot at 0x7f6b3acf7820>"
            ]
          },
          "metadata": {},
          "execution_count": 71
        },
        {
          "output_type": "display_data",
          "data": {
            "text/plain": [
              "<Figure size 432x288 with 1 Axes>"
            ],
            "image/png": "[encoded data removed]"
          },
          "metadata": {
            "needs_background": "light"
          }
        }
      ]
    },
    {
      "cell_type": "markdown",
      "source": [
        "## Remove outliers in all variables"
      ],
      "metadata": {
        "id": "HHA6AGoVZ9bs"
      }
    },
    {
      "cell_type": "code",
      "source": [
        "Q1 = df.quantile(0.25)\n",
        "Q3 = df.quantile(0.75)\n",
        "IQR=Q3-Q1\n",
        "data=df[~((df<(Q1-1.5*IQR))|(df>(Q3+1.5*IQR))).any(axis=1)]\n",
        " \n",
        "# Cek ukuran dataset setelah kita drop outliers\n",
        "df.shape"
      ],
      "metadata": {
        "colab": {
          "base_uri": "https://localhost:8080/"
        },
        "id": "ukfGqMZzaUDX",
        "outputId": "e168a61b-476f-4550-95a3-9add8c25dab7"
      },
      "execution_count": null,
      "outputs": [
        {
          "output_type": "stream",
          "name": "stderr",
          "text": [
            "<ipython-input-72-c954a2818c7b>:4: FutureWarning: Automatic reindexing on DataFrame vs Series comparisons is deprecated and will raise ValueError in a future version.  Do `left, right = left.align(right, axis=1, copy=False)` before e.g. `left == right`\n",
            "  data=df[~((df<(Q1-1.5*IQR))|(df>(Q3+1.5*IQR))).any(axis=1)]\n"
          ]
        },
        {
          "output_type": "execute_result",
          "data": {
            "text/plain": [
              "(4250, 20)"
            ]
          },
          "metadata": {},
          "execution_count": 72
        }
      ]
    },
    {
      "cell_type": "markdown",
      "source": [
        "## Data visualization"
      ],
      "metadata": {
        "id": "T6jpVNUgeEp9"
      }
    },
    {
      "cell_type": "code",
      "source": [
        "df.hist(bins=5,figsize=(20,15))\n",
        "plt.show()"
      ],
      "metadata": {
        "colab": {
          "base_uri": "https://localhost:8080/",
          "height": 879
        },
        "id": "GnQ1kBhmeVfk",
        "outputId": "aab10769-bf59-4723-cb0d-cc8ec24ac562"
      },
      "execution_count": null,
      "outputs": [
        {
          "output_type": "display_data",
          "data": {
            "text/plain": [
              "<Figure size 1440x1080 with 16 Axes>"
            ],
            "image/png": "[encoded data removed]"
          },
          "metadata": {
            "needs_background": "light"
          }
        }
      ]
    },
    {
      "cell_type": "code",
      "source": [
        "fig, ax=plt.subplots(figsize=(20,5))\n",
        "sns.countplot(data = df, x='state', order=df['state'].value_counts().index, palette='viridis', hue='churn')\n",
        "plt.xticks(rotation=90)\n",
        "plt.xlabel('State', fontsize=10, fontweight='bold')\n",
        "plt.ylabel('Customers', fontsize=10, fontweight='bold')\n",
        "plt.title('State wise Customers', fontsize=12, fontweight='bold')\n",
        "plt.show()"
      ],
      "metadata": {
        "colab": {
          "base_uri": "https://localhost:8080/",
          "height": 356
        },
        "id": "PG6nRAjO36oW",
        "outputId": "dc8d2e73-f22f-4517-c897-b3d4f3527587"
      },
      "execution_count": null,
      "outputs": [
        {
          "output_type": "display_data",
          "data": {
            "text/plain": [
              "<Figure size 1440x360 with 1 Axes>"
            ],
            "image/png": "[encoded data removed]"
          },
          "metadata": {
            "needs_background": "light"
          }
        }
      ]
    },
    {
      "cell_type": "code",
      "source": [
        "fig2, ax=plt.subplots(figsize=(15,5))\n",
        "sns.countplot(data = df, x='area_code', order=df['area_code'].value_counts().index, palette='viridis', hue='churn')\n",
        "plt.xlabel('Area Code', fontsize=10, fontweight='bold')\n",
        "plt.ylabel('Customers', fontsize=10, fontweight='bold')\n",
        "plt.title('Area Code wise Customers', fontsize=12, fontweight='bold')\n",
        "plt.show()"
      ],
      "metadata": {
        "colab": {
          "base_uri": "https://localhost:8080/",
          "height": 351
        },
        "id": "70l9qV6Q5NBY",
        "outputId": "13ccce4a-c82f-48ea-aa58-5b34d664a618"
      },
      "execution_count": null,
      "outputs": [
        {
          "output_type": "display_data",
          "data": {
            "text/plain": [
              "<Figure size 1080x360 with 1 Axes>"
            ],
            "image/png": "[encoded data removed]"
          },
          "metadata": {
            "needs_background": "light"
          }
        }
      ]
    },
    {
      "cell_type": "code",
      "source": [
        "fig3, ax=plt.subplots(figsize=(15,5))\n",
        "sns.scatterplot(data = df, x='total_day_calls',y='total_day_charge' , palette='viridis')\n",
        "plt.xlabel('Total Day Calls', fontsize=10, fontweight='bold')\n",
        "plt.ylabel('Total Day Charge', fontsize=10, fontweight='bold')\n",
        "plt.title('Day charge v/s Calls', fontsize=12, fontweight='bold')\n",
        "plt.show()"
      ],
      "metadata": {
        "colab": {
          "base_uri": "https://localhost:8080/",
          "height": 350
        },
        "id": "_WXRUox672eh",
        "outputId": "2745835f-8673-4ae3-dfd5-80568a8fb6d7"
      },
      "execution_count": null,
      "outputs": [
        {
          "output_type": "display_data",
          "data": {
            "text/plain": [
              "<Figure size 1080x360 with 1 Axes>"
            ],
            "image/png": "[encoded data removed]"
          },
          "metadata": {
            "needs_background": "light"
          }
        }
      ]
    },
    {
      "cell_type": "code",
      "source": [
        "plt.figure(figsize=(10, 8))\n",
        "correlation_matrix = df.corr().round(2)\n",
        "sns.heatmap(data=correlation_matrix, annot=True, cmap='Blues', linewidths=1, )\n",
        "plt.title(\"Correlation Matrix for Numeric Features \", size=30)"
      ],
      "metadata": {
        "colab": {
          "base_uri": "https://localhost:8080/",
          "height": 679
        },
        "id": "v86l9aIU8I5J",
        "outputId": "d2661a80-64aa-434b-d4b5-1a1eb0952db9"
      },
      "execution_count": null,
      "outputs": [
        {
          "output_type": "execute_result",
          "data": {
            "text/plain": [
              "Text(0.5, 1.0, 'Correlation Matrix for Numeric Features ')"
            ]
          },
          "metadata": {},
          "execution_count": 77
        },
        {
          "output_type": "display_data",
          "data": {
            "text/plain": [
              "<Figure size 720x576 with 2 Axes>"
            ],
            "image/png": "[encoded data removed]"
          },
          "metadata": {
            "needs_background": "light"
          }
        }
      ]
    },
    {
      "cell_type": "markdown",
      "source": [
        "# Data Preparation"
      ],
      "metadata": {
        "id": "O0G58q7_J-r_"
      }
    },
    {
      "cell_type": "code",
      "source": [
        "df['churn'].replace({'no': 0, 'yes': 1}, inplace=True)\n",
        "df['international_plan'].replace({'no': 0, 'yes': 1}, inplace=True)\n",
        "df['voice_mail_plan'].replace({'no': 0, 'yes': 1}, inplace=True)\n",
        "\n",
        "df.drop(columns=['state', 'area_code'], inplace=True)\n",
        "\n",
        "df['minutes'] = df['total_day_minutes'] + df['total_eve_minutes'] + df['total_night_minutes']\n",
        "df['calls_cnt'] = df['total_day_calls'] + df['total_eve_calls'] + df['total_night_calls']\n",
        "df['total_charge'] = df['total_day_charge'] + df['total_eve_charge'] + df['total_night_charge']\n",
        "\n",
        "df.drop(columns=['total_day_minutes', 'total_eve_minutes', 'total_night_minutes'], inplace=True)\n",
        "df.drop(columns=['total_day_calls', 'total_eve_calls', 'total_night_calls'], inplace=True)\n",
        "df.drop(columns=['total_day_charge', 'total_eve_charge', 'total_night_charge'], inplace=True)\n",
        "\n",
        "df.drop(columns=['total_intl_minutes', 'total_intl_calls'], inplace=True)\n",
        "\n",
        "df.head()"
      ],
      "metadata": {
        "colab": {
          "base_uri": "https://localhost:8080/",
          "height": 206
        },
        "id": "SiTe1AOVQLcJ",
        "outputId": "aa60ae20-29d4-4468-923c-ffbd6500d8bf"
      },
      "execution_count": null,
      "outputs": [
        {
          "output_type": "execute_result",
          "data": {
            "text/plain": [
              "   account_length  international_plan  voice_mail_plan  number_vmail_messages  \\\n",
              "0             107                   0                1                     26   \n",
              "1             137                   0                0                      0   \n",
              "2              84                   1                0                      0   \n",
              "3              75                   1                0                      0   \n",
              "4             121                   0                1                     24   \n",
              "\n",
              "   total_intl_charge  number_customer_service_calls  churn  minutes  \\\n",
              "0               3.70                              1      0    611.5   \n",
              "1               3.29                              0      0    527.2   \n",
              "2               1.78                              2      0    558.2   \n",
              "3               2.73                              3      0    501.9   \n",
              "4               2.03                              3      0    779.3   \n",
              "\n",
              "   calls_cnt  total_charge  \n",
              "0        329         55.54  \n",
              "1        328         59.00  \n",
              "2        248         65.02  \n",
              "3        356         49.36  \n",
              "4        314         76.28  "
            ],
            "text/html": [
              "\n",
              "  <div id=\"df-3a87f7c7-2fbf-4a3f-aed7-d75db27f6ce0\">\n",
              "    <div class=\"colab-df-container\">\n",
              "      <div>\n",
              "<style scoped>\n",
              "    .dataframe tbody tr th:only-of-type {\n",
              "        vertical-align: middle;\n",
              "    }\n",
              "\n",
              "    .dataframe tbody tr th {\n",
              "        vertical-align: top;\n",
              "    }\n",
              "\n",
              "    .dataframe thead th {\n",
              "        text-align: right;\n",
              "    }\n",
              "</style>\n",
              "<table border=\"1\" class=\"dataframe\">\n",
              "  <thead>\n",
              "    <tr style=\"text-align: right;\">\n",
              "      <th></th>\n",
              "      <th>account_length</th>\n",
              "      <th>international_plan</th>\n",
              "      <th>voice_mail_plan</th>\n",
              "      <th>number_vmail_messages</th>\n",
              "      <th>total_intl_charge</th>\n",
              "      <th>number_customer_service_calls</th>\n",
              "      <th>churn</th>\n",
              "      <th>minutes</th>\n",
              "      <th>calls_cnt</th>\n",
              "      <th>total_charge</th>\n",
              "    </tr>\n",
              "  </thead>\n",
              "  <tbody>\n",
              "    <tr>\n",
              "      <th>0</th>\n",
              "      <td>107</td>\n",
              "      <td>0</td>\n",
              "      <td>1</td>\n",
              "      <td>26</td>\n",
              "      <td>3.70</td>\n",
              "      <td>1</td>\n",
              "      <td>0</td>\n",
              "      <td>611.5</td>\n",
              "      <td>329</td>\n",
              "      <td>55.54</td>\n",
              "    </tr>\n",
              "    <tr>\n",
              "      <th>1</th>\n",
              "      <td>137</td>\n",
              "      <td>0</td>\n",
              "      <td>0</td>\n",
              "      <td>0</td>\n",
              "      <td>3.29</td>\n",
              "      <td>0</td>\n",
              "      <td>0</td>\n",
              "      <td>527.2</td>\n",
              "      <td>328</td>\n",
              "      <td>59.00</td>\n",
              "    </tr>\n",
              "    <tr>\n",
              "      <th>2</th>\n",
              "      <td>84</td>\n",
              "      <td>1</td>\n",
              "      <td>0</td>\n",
              "      <td>0</td>\n",
              "      <td>1.78</td>\n",
              "      <td>2</td>\n",
              "      <td>0</td>\n",
              "      <td>558.2</td>\n",
              "      <td>248</td>\n",
              "      <td>65.02</td>\n",
              "    </tr>\n",
              "    <tr>\n",
              "      <th>3</th>\n",
              "      <td>75</td>\n",
              "      <td>1</td>\n",
              "      <td>0</td>\n",
              "      <td>0</td>\n",
              "      <td>2.73</td>\n",
              "      <td>3</td>\n",
              "      <td>0</td>\n",
              "      <td>501.9</td>\n",
              "      <td>356</td>\n",
              "      <td>49.36</td>\n",
              "    </tr>\n",
              "    <tr>\n",
              "      <th>4</th>\n",
              "      <td>121</td>\n",
              "      <td>0</td>\n",
              "      <td>1</td>\n",
              "      <td>24</td>\n",
              "      <td>2.03</td>\n",
              "      <td>3</td>\n",
              "      <td>0</td>\n",
              "      <td>779.3</td>\n",
              "      <td>314</td>\n",
              "      <td>76.28</td>\n",
              "    </tr>\n",
              "  </tbody>\n",
              "</table>\n",
              "</div>\n",
              "      <button class=\"colab-df-convert\" onclick=\"convertToInteractive('df-3a87f7c7-2fbf-4a3f-aed7-d75db27f6ce0')\"\n",
              "              title=\"Convert this dataframe to an interactive table.\"\n",
              "              style=\"display:none;\">\n",
              "        \n",
              "  <svg xmlns=\"http://www.w3.org/2000/svg\" height=\"24px\"viewBox=\"0 0 24 24\"\n",
              "       width=\"24px\">\n",
              "    <path d=\"M0 0h24v24H0V0z\" fill=\"none\"/>\n",
              "    <path d=\"M18.56 5.44l.94 2.06.94-2.06 2.06-.94-2.06-.94-.94-2.06-.94 2.06-2.06.94zm-11 1L8.5 8.5l.94-2.06 2.06-.94-2.06-.94L8.5 2.5l-.94 2.06-2.06.94zm10 10l.94 2.06.94-2.06 2.06-.94-2.06-.94-.94-2.06-.94 2.06-2.06.94z\"/><path d=\"M17.41 7.96l-1.37-1.37c-.4-.4-.92-.59-1.43-.59-.52 0-1.04.2-1.43.59L10.3 9.45l-7.72 7.72c-.78.78-.78 2.05 0 2.83L4 21.41c.39.39.9.59 1.41.59.51 0 1.02-.2 1.41-.59l7.78-7.78 2.81-2.81c.8-.78.8-2.07 0-2.86zM5.41 20L4 18.59l7.72-7.72 1.47 1.35L5.41 20z\"/>\n",
              "  </svg>\n",
              "      </button>\n",
              "      \n",
              "  <style>\n",
              "    .colab-df-container {\n",
              "      display:flex;\n",
              "      flex-wrap:wrap;\n",
              "      gap: 12px;\n",
              "    }\n",
              "\n",
              "    .colab-df-convert {\n",
              "      background-color: #E8F0FE;\n",
              "      border: none;\n",
              "      border-radius: 50%;\n",
              "      cursor: pointer;\n",
              "      display: none;\n",
              "      fill: #1967D2;\n",
              "      height: 32px;\n",
              "      padding: 0 0 0 0;\n",
              "      width: 32px;\n",
              "    }\n",
              "\n",
              "    .colab-df-convert:hover {\n",
              "      background-color: #E2EBFA;\n",
              "      box-shadow: 0px 1px 2px rgba(60, 64, 67, 0.3), 0px 1px 3px 1px rgba(60, 64, 67, 0.15);\n",
              "      fill: #174EA6;\n",
              "    }\n",
              "\n",
              "    [theme=dark] .colab-df-convert {\n",
              "      background-color: #3B4455;\n",
              "      fill: #D2E3FC;\n",
              "    }\n",
              "\n",
              "    [theme=dark] .colab-df-convert:hover {\n",
              "      background-color: #434B5C;\n",
              "      box-shadow: 0px 1px 3px 1px rgba(0, 0, 0, 0.15);\n",
              "      filter: drop-shadow(0px 1px 2px rgba(0, 0, 0, 0.3));\n",
              "      fill: #FFFFFF;\n",
              "    }\n",
              "  </style>\n",
              "\n",
              "      <script>\n",
              "        const buttonEl =\n",
              "          document.querySelector('#df-3a87f7c7-2fbf-4a3f-aed7-d75db27f6ce0 button.colab-df-convert');\n",
              "        buttonEl.style.display =\n",
              "          google.colab.kernel.accessAllowed ? 'block' : 'none';\n",
              "\n",
              "        async function convertToInteractive(key) {\n",
              "          const element = document.querySelector('#df-3a87f7c7-2fbf-4a3f-aed7-d75db27f6ce0');\n",
              "          const dataTable =\n",
              "            await google.colab.kernel.invokeFunction('convertToInteractive',\n",
              "                                                     [key], {});\n",
              "          if (!dataTable) return;\n",
              "\n",
              "          const docLinkHtml = 'Like what you see? Visit the ' +\n",
              "            '<a target=\"_blank\" href=https://colab.research.google.com/notebooks/data_table.ipynb>data table notebook</a>'\n",
              "            + ' to learn more about interactive tables.';\n",
              "          element.innerHTML = '';\n",
              "          dataTable['output_type'] = 'display_data';\n",
              "          await google.colab.output.renderOutput(dataTable, element);\n",
              "          const docLink = document.createElement('div');\n",
              "          docLink.innerHTML = docLinkHtml;\n",
              "          element.appendChild(docLink);\n",
              "        }\n",
              "      </script>\n",
              "    </div>\n",
              "  </div>\n",
              "  "
            ]
          },
          "metadata": {},
          "execution_count": 80
        }
      ]
    },
    {
      "cell_type": "code",
      "source": [
        "df.isnull().sum()"
      ],
      "metadata": {
        "colab": {
          "base_uri": "https://localhost:8080/"
        },
        "id": "egckBSIPQ7jQ",
        "outputId": "b9aa16c7-1ddc-414d-8163-2185d1dde163"
      },
      "execution_count": null,
      "outputs": [
        {
          "output_type": "execute_result",
          "data": {
            "text/plain": [
              "account_length                   0\n",
              "international_plan               0\n",
              "voice_mail_plan                  0\n",
              "number_vmail_messages            0\n",
              "total_intl_charge                0\n",
              "number_customer_service_calls    0\n",
              "churn                            0\n",
              "minutes                          0\n",
              "calls_cnt                        0\n",
              "total_charge                     0\n",
              "dtype: int64"
            ]
          },
          "metadata": {},
          "execution_count": 83
        }
      ]
    },
    {
      "cell_type": "code",
      "source": [
        "df = df.fillna(df.mean())"
      ],
      "metadata": {
        "id": "sxSJLs-FRE4l"
      },
      "execution_count": null,
      "outputs": []
    },
    {
      "cell_type": "code",
      "source": [
        "df.describe()"
      ],
      "metadata": {
        "colab": {
          "base_uri": "https://localhost:8080/",
          "height": 364
        },
        "id": "wP_R2LZNRMuP",
        "outputId": "dcc0f5bd-e3d8-4ad6-cdad-d26c6059ced2"
      },
      "execution_count": null,
      "outputs": [
        {
          "output_type": "execute_result",
          "data": {
            "text/plain": [
              "       account_length  international_plan  voice_mail_plan  \\\n",
              "count     4250.000000         4250.000000      4250.000000   \n",
              "mean       100.236235            0.093176         0.261647   \n",
              "std         39.698401            0.290714         0.439583   \n",
              "min          1.000000            0.000000         0.000000   \n",
              "25%         73.000000            0.000000         0.000000   \n",
              "50%        100.000000            0.000000         0.000000   \n",
              "75%        127.000000            0.000000         1.000000   \n",
              "max        243.000000            1.000000         1.000000   \n",
              "\n",
              "       number_vmail_messages  total_intl_charge  \\\n",
              "count            4250.000000        4250.000000   \n",
              "mean                7.631765           2.769654   \n",
              "std                13.439882           0.745204   \n",
              "min                 0.000000           0.000000   \n",
              "25%                 0.000000           2.300000   \n",
              "50%                 0.000000           2.780000   \n",
              "75%                16.000000           3.240000   \n",
              "max                52.000000           5.400000   \n",
              "\n",
              "       number_customer_service_calls        churn      minutes    calls_cnt  \\\n",
              "count                    4250.000000  4250.000000  4250.000000  4250.000000   \n",
              "mean                        1.559059     0.140706   580.961388   299.923294   \n",
              "std                         1.311434     0.347759    88.823648    34.405153   \n",
              "min                         0.000000     0.000000   275.200000   188.000000   \n",
              "25%                         1.000000     0.000000   521.125000   277.000000   \n",
              "50%                         1.000000     0.000000   581.400000   300.000000   \n",
              "75%                         2.000000     0.000000   640.900000   323.000000   \n",
              "max                         9.000000     1.000000   876.900000   410.000000   \n",
              "\n",
              "       total_charge  \n",
              "count   4250.000000  \n",
              "mean      56.683586  \n",
              "std       10.334156  \n",
              "min       19.980000  \n",
              "25%       49.592500  \n",
              "50%       56.680000  \n",
              "75%       63.447500  \n",
              "max       92.560000  "
            ],
            "text/html": [
              "\n",
              "  <div id=\"df-aabc8a90-613b-419b-be55-c12b64565402\">\n",
              "    <div class=\"colab-df-container\">\n",
              "      <div>\n",
              "<style scoped>\n",
              "    .dataframe tbody tr th:only-of-type {\n",
              "        vertical-align: middle;\n",
              "    }\n",
              "\n",
              "    .dataframe tbody tr th {\n",
              "        vertical-align: top;\n",
              "    }\n",
              "\n",
              "    .dataframe thead th {\n",
              "        text-align: right;\n",
              "    }\n",
              "</style>\n",
              "<table border=\"1\" class=\"dataframe\">\n",
              "  <thead>\n",
              "    <tr style=\"text-align: right;\">\n",
              "      <th></th>\n",
              "      <th>account_length</th>\n",
              "      <th>international_plan</th>\n",
              "      <th>voice_mail_plan</th>\n",
              "      <th>number_vmail_messages</th>\n",
              "      <th>total_intl_charge</th>\n",
              "      <th>number_customer_service_calls</th>\n",
              "      <th>churn</th>\n",
              "      <th>minutes</th>\n",
              "      <th>calls_cnt</th>\n",
              "      <th>total_charge</th>\n",
              "    </tr>\n",
              "  </thead>\n",
              "  <tbody>\n",
              "    <tr>\n",
              "      <th>count</th>\n",
              "      <td>4250.000000</td>\n",
              "      <td>4250.000000</td>\n",
              "      <td>4250.000000</td>\n",
              "      <td>4250.000000</td>\n",
              "      <td>4250.000000</td>\n",
              "      <td>4250.000000</td>\n",
              "      <td>4250.000000</td>\n",
              "      <td>4250.000000</td>\n",
              "      <td>4250.000000</td>\n",
              "      <td>4250.000000</td>\n",
              "    </tr>\n",
              "    <tr>\n",
              "      <th>mean</th>\n",
              "      <td>100.236235</td>\n",
              "      <td>0.093176</td>\n",
              "      <td>0.261647</td>\n",
              "      <td>7.631765</td>\n",
              "      <td>2.769654</td>\n",
              "      <td>1.559059</td>\n",
              "      <td>0.140706</td>\n",
              "      <td>580.961388</td>\n",
              "      <td>299.923294</td>\n",
              "      <td>56.683586</td>\n",
              "    </tr>\n",
              "    <tr>\n",
              "      <th>std</th>\n",
              "      <td>39.698401</td>\n",
              "      <td>0.290714</td>\n",
              "      <td>0.439583</td>\n",
              "      <td>13.439882</td>\n",
              "      <td>0.745204</td>\n",
              "      <td>1.311434</td>\n",
              "      <td>0.347759</td>\n",
              "      <td>88.823648</td>\n",
              "      <td>34.405153</td>\n",
              "      <td>10.334156</td>\n",
              "    </tr>\n",
              "    <tr>\n",
              "      <th>min</th>\n",
              "      <td>1.000000</td>\n",
              "      <td>0.000000</td>\n",
              "      <td>0.000000</td>\n",
              "      <td>0.000000</td>\n",
              "      <td>0.000000</td>\n",
              "      <td>0.000000</td>\n",
              "      <td>0.000000</td>\n",
              "      <td>275.200000</td>\n",
              "      <td>188.000000</td>\n",
              "      <td>19.980000</td>\n",
              "    </tr>\n",
              "    <tr>\n",
              "      <th>25%</th>\n",
              "      <td>73.000000</td>\n",
              "      <td>0.000000</td>\n",
              "      <td>0.000000</td>\n",
              "      <td>0.000000</td>\n",
              "      <td>2.300000</td>\n",
              "      <td>1.000000</td>\n",
              "      <td>0.000000</td>\n",
              "      <td>521.125000</td>\n",
              "      <td>277.000000</td>\n",
              "      <td>49.592500</td>\n",
              "    </tr>\n",
              "    <tr>\n",
              "      <th>50%</th>\n",
              "      <td>100.000000</td>\n",
              "      <td>0.000000</td>\n",
              "      <td>0.000000</td>\n",
              "      <td>0.000000</td>\n",
              "      <td>2.780000</td>\n",
              "      <td>1.000000</td>\n",
              "      <td>0.000000</td>\n",
              "      <td>581.400000</td>\n",
              "      <td>300.000000</td>\n",
              "      <td>56.680000</td>\n",
              "    </tr>\n",
              "    <tr>\n",
              "      <th>75%</th>\n",
              "      <td>127.000000</td>\n",
              "      <td>0.000000</td>\n",
              "      <td>1.000000</td>\n",
              "      <td>16.000000</td>\n",
              "      <td>3.240000</td>\n",
              "      <td>2.000000</td>\n",
              "      <td>0.000000</td>\n",
              "      <td>640.900000</td>\n",
              "      <td>323.000000</td>\n",
              "      <td>63.447500</td>\n",
              "    </tr>\n",
              "    <tr>\n",
              "      <th>max</th>\n",
              "      <td>243.000000</td>\n",
              "      <td>1.000000</td>\n",
              "      <td>1.000000</td>\n",
              "      <td>52.000000</td>\n",
              "      <td>5.400000</td>\n",
              "      <td>9.000000</td>\n",
              "      <td>1.000000</td>\n",
              "      <td>876.900000</td>\n",
              "      <td>410.000000</td>\n",
              "      <td>92.560000</td>\n",
              "    </tr>\n",
              "  </tbody>\n",
              "</table>\n",
              "</div>\n",
              "      <button class=\"colab-df-convert\" onclick=\"convertToInteractive('df-aabc8a90-613b-419b-be55-c12b64565402')\"\n",
              "              title=\"Convert this dataframe to an interactive table.\"\n",
              "              style=\"display:none;\">\n",
              "        \n",
              "  <svg xmlns=\"http://www.w3.org/2000/svg\" height=\"24px\"viewBox=\"0 0 24 24\"\n",
              "       width=\"24px\">\n",
              "    <path d=\"M0 0h24v24H0V0z\" fill=\"none\"/>\n",
              "    <path d=\"M18.56 5.44l.94 2.06.94-2.06 2.06-.94-2.06-.94-.94-2.06-.94 2.06-2.06.94zm-11 1L8.5 8.5l.94-2.06 2.06-.94-2.06-.94L8.5 2.5l-.94 2.06-2.06.94zm10 10l.94 2.06.94-2.06 2.06-.94-2.06-.94-.94-2.06-.94 2.06-2.06.94z\"/><path d=\"M17.41 7.96l-1.37-1.37c-.4-.4-.92-.59-1.43-.59-.52 0-1.04.2-1.43.59L10.3 9.45l-7.72 7.72c-.78.78-.78 2.05 0 2.83L4 21.41c.39.39.9.59 1.41.59.51 0 1.02-.2 1.41-.59l7.78-7.78 2.81-2.81c.8-.78.8-2.07 0-2.86zM5.41 20L4 18.59l7.72-7.72 1.47 1.35L5.41 20z\"/>\n",
              "  </svg>\n",
              "      </button>\n",
              "      \n",
              "  <style>\n",
              "    .colab-df-container {\n",
              "      display:flex;\n",
              "      flex-wrap:wrap;\n",
              "      gap: 12px;\n",
              "    }\n",
              "\n",
              "    .colab-df-convert {\n",
              "      background-color: #E8F0FE;\n",
              "      border: none;\n",
              "      border-radius: 50%;\n",
              "      cursor: pointer;\n",
              "      display: none;\n",
              "      fill: #1967D2;\n",
              "      height: 32px;\n",
              "      padding: 0 0 0 0;\n",
              "      width: 32px;\n",
              "    }\n",
              "\n",
              "    .colab-df-convert:hover {\n",
              "      background-color: #E2EBFA;\n",
              "      box-shadow: 0px 1px 2px rgba(60, 64, 67, 0.3), 0px 1px 3px 1px rgba(60, 64, 67, 0.15);\n",
              "      fill: #174EA6;\n",
              "    }\n",
              "\n",
              "    [theme=dark] .colab-df-convert {\n",
              "      background-color: #3B4455;\n",
              "      fill: #D2E3FC;\n",
              "    }\n",
              "\n",
              "    [theme=dark] .colab-df-convert:hover {\n",
              "      background-color: #434B5C;\n",
              "      box-shadow: 0px 1px 3px 1px rgba(0, 0, 0, 0.15);\n",
              "      filter: drop-shadow(0px 1px 2px rgba(0, 0, 0, 0.3));\n",
              "      fill: #FFFFFF;\n",
              "    }\n",
              "  </style>\n",
              "\n",
              "      <script>\n",
              "        const buttonEl =\n",
              "          document.querySelector('#df-aabc8a90-613b-419b-be55-c12b64565402 button.colab-df-convert');\n",
              "        buttonEl.style.display =\n",
              "          google.colab.kernel.accessAllowed ? 'block' : 'none';\n",
              "\n",
              "        async function convertToInteractive(key) {\n",
              "          const element = document.querySelector('#df-aabc8a90-613b-419b-be55-c12b64565402');\n",
              "          const dataTable =\n",
              "            await google.colab.kernel.invokeFunction('convertToInteractive',\n",
              "                                                     [key], {});\n",
              "          if (!dataTable) return;\n",
              "\n",
              "          const docLinkHtml = 'Like what you see? Visit the ' +\n",
              "            '<a target=\"_blank\" href=https://colab.research.google.com/notebooks/data_table.ipynb>data table notebook</a>'\n",
              "            + ' to learn more about interactive tables.';\n",
              "          element.innerHTML = '';\n",
              "          dataTable['output_type'] = 'display_data';\n",
              "          await google.colab.output.renderOutput(dataTable, element);\n",
              "          const docLink = document.createElement('div');\n",
              "          docLink.innerHTML = docLinkHtml;\n",
              "          element.appendChild(docLink);\n",
              "        }\n",
              "      </script>\n",
              "    </div>\n",
              "  </div>\n",
              "  "
            ]
          },
          "metadata": {},
          "execution_count": 86
        }
      ]
    },
    {
      "cell_type": "code",
      "source": [
        "corr = df.corr()\n",
        "fig4, ax = plt.subplots(figsize=(15,7))\n",
        "sns.heatmap(corr,\n",
        "            xticklabels=corr.columns.values,\n",
        "            yticklabels=corr.columns.values,\n",
        "            annot=True,cmap=\"YlGnBu\",annot_kws={'size': 12},fmt=\".2f\")"
      ],
      "metadata": {
        "colab": {
          "base_uri": "https://localhost:8080/",
          "height": 600
        },
        "id": "c1KFTu8oVVbw",
        "outputId": "7f9ee270-192f-4bb9-9eb4-2342baac88f8"
      },
      "execution_count": null,
      "outputs": [
        {
          "output_type": "execute_result",
          "data": {
            "text/plain": [
              "<matplotlib.axes._subplots.AxesSubplot at 0x7f6b3d858b20>"
            ]
          },
          "metadata": {},
          "execution_count": 129
        },
        {
          "output_type": "display_data",
          "data": {
            "text/plain": [
              "<Figure size 1080x504 with 2 Axes>"
            ],
            "image/png": "[encoded data removed]"
          },
          "metadata": {
            "needs_background": "light"
          }
        }
      ]
    },
    {
      "cell_type": "code",
      "source": [
        "X = df.drop(\"churn\", axis=1)\n",
        "y = df[\"churn\"]"
      ],
      "metadata": {
        "id": "fKngoa3hRQCD"
      },
      "execution_count": null,
      "outputs": []
    },
    {
      "cell_type": "code",
      "source": [
        "X_train, X_test, y_train, y_test = train_test_split(X, y, train_size=0.80,test_size=0.20,random_state=1)"
      ],
      "metadata": {
        "id": "_7HzlEd2S1aq"
      },
      "execution_count": null,
      "outputs": []
    },
    {
      "cell_type": "code",
      "source": [
        "print(f'Total # of sample in whole dataset: {len(X)}')\n",
        "print(f'Total # of sample in train dataset: {len(X_train)}')\n",
        "print(f'Total # of sample in test dataset: {len(X_test)}')"
      ],
      "metadata": {
        "colab": {
          "base_uri": "https://localhost:8080/"
        },
        "id": "_ruJGahpS8UG",
        "outputId": "07114d2d-cd29-432f-eca2-b9a411563f4c"
      },
      "execution_count": null,
      "outputs": [
        {
          "output_type": "stream",
          "name": "stdout",
          "text": [
            "Total # of sample in whole dataset: 4250\n",
            "Total # of sample in train dataset: 3400\n",
            "Total # of sample in test dataset: 850\n"
          ]
        }
      ]
    },
    {
      "cell_type": "markdown",
      "source": [
        "# Modelling"
      ],
      "metadata": {
        "id": "256hNfDXfuRC"
      }
    },
    {
      "cell_type": "code",
      "source": [
        "models = pd.DataFrame(index=['train_acc', 'test_acc'], \n",
        "                      columns=['ET','RFC','DC','AB','SVC','GNB'])"
      ],
      "metadata": {
        "id": "OvDtcUk7YxQ4"
      },
      "execution_count": null,
      "outputs": []
    },
    {
      "cell_type": "markdown",
      "source": [
        "### ExtraTreesClassifier"
      ],
      "metadata": {
        "id": "gg7MPj0Ek6np"
      }
    },
    {
      "cell_type": "code",
      "source": [
        "ET = ExtraTreesClassifier(n_estimators=100, max_depth=None, min_samples_split=2, random_state=0, n_jobs=-1)\n",
        "ET.fit(X_train, y_train)\n",
        "\n",
        "models.loc['train_acc','ET'] =accuracy_score(y_train, ET.predict(X_train))"
      ],
      "metadata": {
        "id": "8TEySVwwy1A5"
      },
      "execution_count": null,
      "outputs": []
    },
    {
      "cell_type": "code",
      "source": [
        "ET_pred = ET.predict(X_test)"
      ],
      "metadata": {
        "id": "-0K-rxS0zn3I"
      },
      "execution_count": null,
      "outputs": []
    },
    {
      "cell_type": "code",
      "source": [
        "accuracy_score(y_test, ET_pred)"
      ],
      "metadata": {
        "colab": {
          "base_uri": "https://localhost:8080/"
        },
        "id": "jzp4IxywztHC",
        "outputId": "9f9d38e6-4856-4eb9-fe7d-8e24fef391c9"
      },
      "execution_count": null,
      "outputs": [
        {
          "output_type": "execute_result",
          "data": {
            "text/plain": [
              "0.9529411764705882"
            ]
          },
          "metadata": {},
          "execution_count": 98
        }
      ]
    },
    {
      "cell_type": "code",
      "source": [
        "ET_cr = classification_report(y_test, ET_pred, output_dict=True)\n",
        "pd.DataFrame(ET_cr).transpose()"
      ],
      "metadata": {
        "colab": {
          "base_uri": "https://localhost:8080/",
          "height": 206
        },
        "id": "7cJ4ta1Azx5B",
        "outputId": "ffd5f225-f69c-4a2e-b9ae-3387c73eca57"
      },
      "execution_count": null,
      "outputs": [
        {
          "output_type": "execute_result",
          "data": {
            "text/plain": [
              "              precision    recall  f1-score     support\n",
              "0              0.962517  0.983584  0.972936  731.000000\n",
              "1              0.883495  0.764706  0.819820  119.000000\n",
              "accuracy       0.952941  0.952941  0.952941    0.952941\n",
              "macro avg      0.923006  0.874145  0.896378  850.000000\n",
              "weighted avg   0.951454  0.952941  0.951500  850.000000"
            ],
            "text/html": [
              "\n",
              "  <div id=\"df-e3ed648f-415b-4272-b9b1-af23dc9af8a8\">\n",
              "    <div class=\"colab-df-container\">\n",
              "      <div>\n",
              "<style scoped>\n",
              "    .dataframe tbody tr th:only-of-type {\n",
              "        vertical-align: middle;\n",
              "    }\n",
              "\n",
              "    .dataframe tbody tr th {\n",
              "        vertical-align: top;\n",
              "    }\n",
              "\n",
              "    .dataframe thead th {\n",
              "        text-align: right;\n",
              "    }\n",
              "</style>\n",
              "<table border=\"1\" class=\"dataframe\">\n",
              "  <thead>\n",
              "    <tr style=\"text-align: right;\">\n",
              "      <th></th>\n",
              "      <th>precision</th>\n",
              "      <th>recall</th>\n",
              "      <th>f1-score</th>\n",
              "      <th>support</th>\n",
              "    </tr>\n",
              "  </thead>\n",
              "  <tbody>\n",
              "    <tr>\n",
              "      <th>0</th>\n",
              "      <td>0.962517</td>\n",
              "      <td>0.983584</td>\n",
              "      <td>0.972936</td>\n",
              "      <td>731.000000</td>\n",
              "    </tr>\n",
              "    <tr>\n",
              "      <th>1</th>\n",
              "      <td>0.883495</td>\n",
              "      <td>0.764706</td>\n",
              "      <td>0.819820</td>\n",
              "      <td>119.000000</td>\n",
              "    </tr>\n",
              "    <tr>\n",
              "      <th>accuracy</th>\n",
              "      <td>0.952941</td>\n",
              "      <td>0.952941</td>\n",
              "      <td>0.952941</td>\n",
              "      <td>0.952941</td>\n",
              "    </tr>\n",
              "    <tr>\n",
              "      <th>macro avg</th>\n",
              "      <td>0.923006</td>\n",
              "      <td>0.874145</td>\n",
              "      <td>0.896378</td>\n",
              "      <td>850.000000</td>\n",
              "    </tr>\n",
              "    <tr>\n",
              "      <th>weighted avg</th>\n",
              "      <td>0.951454</td>\n",
              "      <td>0.952941</td>\n",
              "      <td>0.951500</td>\n",
              "      <td>850.000000</td>\n",
              "    </tr>\n",
              "  </tbody>\n",
              "</table>\n",
              "</div>\n",
              "      <button class=\"colab-df-convert\" onclick=\"convertToInteractive('df-e3ed648f-415b-4272-b9b1-af23dc9af8a8')\"\n",
              "              title=\"Convert this dataframe to an interactive table.\"\n",
              "              style=\"display:none;\">\n",
              "        \n",
              "  <svg xmlns=\"http://www.w3.org/2000/svg\" height=\"24px\"viewBox=\"0 0 24 24\"\n",
              "       width=\"24px\">\n",
              "    <path d=\"M0 0h24v24H0V0z\" fill=\"none\"/>\n",
              "    <path d=\"M18.56 5.44l.94 2.06.94-2.06 2.06-.94-2.06-.94-.94-2.06-.94 2.06-2.06.94zm-11 1L8.5 8.5l.94-2.06 2.06-.94-2.06-.94L8.5 2.5l-.94 2.06-2.06.94zm10 10l.94 2.06.94-2.06 2.06-.94-2.06-.94-.94-2.06-.94 2.06-2.06.94z\"/><path d=\"M17.41 7.96l-1.37-1.37c-.4-.4-.92-.59-1.43-.59-.52 0-1.04.2-1.43.59L10.3 9.45l-7.72 7.72c-.78.78-.78 2.05 0 2.83L4 21.41c.39.39.9.59 1.41.59.51 0 1.02-.2 1.41-.59l7.78-7.78 2.81-2.81c.8-.78.8-2.07 0-2.86zM5.41 20L4 18.59l7.72-7.72 1.47 1.35L5.41 20z\"/>\n",
              "  </svg>\n",
              "      </button>\n",
              "      \n",
              "  <style>\n",
              "    .colab-df-container {\n",
              "      display:flex;\n",
              "      flex-wrap:wrap;\n",
              "      gap: 12px;\n",
              "    }\n",
              "\n",
              "    .colab-df-convert {\n",
              "      background-color: #E8F0FE;\n",
              "      border: none;\n",
              "      border-radius: 50%;\n",
              "      cursor: pointer;\n",
              "      display: none;\n",
              "      fill: #1967D2;\n",
              "      height: 32px;\n",
              "      padding: 0 0 0 0;\n",
              "      width: 32px;\n",
              "    }\n",
              "\n",
              "    .colab-df-convert:hover {\n",
              "      background-color: #E2EBFA;\n",
              "      box-shadow: 0px 1px 2px rgba(60, 64, 67, 0.3), 0px 1px 3px 1px rgba(60, 64, 67, 0.15);\n",
              "      fill: #174EA6;\n",
              "    }\n",
              "\n",
              "    [theme=dark] .colab-df-convert {\n",
              "      background-color: #3B4455;\n",
              "      fill: #D2E3FC;\n",
              "    }\n",
              "\n",
              "    [theme=dark] .colab-df-convert:hover {\n",
              "      background-color: #434B5C;\n",
              "      box-shadow: 0px 1px 3px 1px rgba(0, 0, 0, 0.15);\n",
              "      filter: drop-shadow(0px 1px 2px rgba(0, 0, 0, 0.3));\n",
              "      fill: #FFFFFF;\n",
              "    }\n",
              "  </style>\n",
              "\n",
              "      <script>\n",
              "        const buttonEl =\n",
              "          document.querySelector('#df-e3ed648f-415b-4272-b9b1-af23dc9af8a8 button.colab-df-convert');\n",
              "        buttonEl.style.display =\n",
              "          google.colab.kernel.accessAllowed ? 'block' : 'none';\n",
              "\n",
              "        async function convertToInteractive(key) {\n",
              "          const element = document.querySelector('#df-e3ed648f-415b-4272-b9b1-af23dc9af8a8');\n",
              "          const dataTable =\n",
              "            await google.colab.kernel.invokeFunction('convertToInteractive',\n",
              "                                                     [key], {});\n",
              "          if (!dataTable) return;\n",
              "\n",
              "          const docLinkHtml = 'Like what you see? Visit the ' +\n",
              "            '<a target=\"_blank\" href=https://colab.research.google.com/notebooks/data_table.ipynb>data table notebook</a>'\n",
              "            + ' to learn more about interactive tables.';\n",
              "          element.innerHTML = '';\n",
              "          dataTable['output_type'] = 'display_data';\n",
              "          await google.colab.output.renderOutput(dataTable, element);\n",
              "          const docLink = document.createElement('div');\n",
              "          docLink.innerHTML = docLinkHtml;\n",
              "          element.appendChild(docLink);\n",
              "        }\n",
              "      </script>\n",
              "    </div>\n",
              "  </div>\n",
              "  "
            ]
          },
          "metadata": {},
          "execution_count": 99
        }
      ]
    },
    {
      "cell_type": "markdown",
      "source": [
        "### RandomForestClassifier"
      ],
      "metadata": {
        "id": "i8TUMtEpk_c_"
      }
    },
    {
      "cell_type": "code",
      "source": [
        "RFC = RandomForestClassifier(n_estimators=50, max_depth=16, random_state=55, n_jobs=-1)\n",
        "RFC.fit(X_train,y_train)\n",
        "models.loc['train_acc','RFC']=accuracy_score(y_train, RFC.predict(X_train))"
      ],
      "metadata": {
        "id": "FJxU6DhBKh0d"
      },
      "execution_count": null,
      "outputs": []
    },
    {
      "cell_type": "code",
      "source": [
        "RFC_pred = RFC.predict(X_test)"
      ],
      "metadata": {
        "id": "AsfXGXZahzcP"
      },
      "execution_count": null,
      "outputs": []
    },
    {
      "cell_type": "code",
      "source": [
        "accuracy_score(y_test, RFC_pred)"
      ],
      "metadata": {
        "colab": {
          "base_uri": "https://localhost:8080/"
        },
        "id": "yoLxouJkh5JD",
        "outputId": "026045d8-02c0-43b9-d3da-c3853ff46752"
      },
      "execution_count": null,
      "outputs": [
        {
          "output_type": "execute_result",
          "data": {
            "text/plain": [
              "0.9611764705882353"
            ]
          },
          "metadata": {},
          "execution_count": 102
        }
      ]
    },
    {
      "cell_type": "code",
      "source": [
        "RFC_cr = classification_report(y_test, RFC_pred, output_dict=True)\n",
        "pd.DataFrame(RFC_cr).transpose()"
      ],
      "metadata": {
        "colab": {
          "base_uri": "https://localhost:8080/",
          "height": 206
        },
        "id": "PFnf8kehiCm_",
        "outputId": "d44bf318-87b6-4a5e-e267-8490a74206b7"
      },
      "execution_count": null,
      "outputs": [
        {
          "output_type": "execute_result",
          "data": {
            "text/plain": [
              "              precision    recall  f1-score     support\n",
              "0              0.966578  0.989056  0.977688  731.000000\n",
              "1              0.921569  0.789916  0.850679  119.000000\n",
              "accuracy       0.961176  0.961176  0.961176    0.961176\n",
              "macro avg      0.944073  0.889486  0.914183  850.000000\n",
              "weighted avg   0.960276  0.961176  0.959906  850.000000"
            ],
            "text/html": [
              "\n",
              "  <div id=\"df-262ead9d-a86b-44ae-9368-bf7b4051af6e\">\n",
              "    <div class=\"colab-df-container\">\n",
              "      <div>\n",
              "<style scoped>\n",
              "    .dataframe tbody tr th:only-of-type {\n",
              "        vertical-align: middle;\n",
              "    }\n",
              "\n",
              "    .dataframe tbody tr th {\n",
              "        vertical-align: top;\n",
              "    }\n",
              "\n",
              "    .dataframe thead th {\n",
              "        text-align: right;\n",
              "    }\n",
              "</style>\n",
              "<table border=\"1\" class=\"dataframe\">\n",
              "  <thead>\n",
              "    <tr style=\"text-align: right;\">\n",
              "      <th></th>\n",
              "      <th>precision</th>\n",
              "      <th>recall</th>\n",
              "      <th>f1-score</th>\n",
              "      <th>support</th>\n",
              "    </tr>\n",
              "  </thead>\n",
              "  <tbody>\n",
              "    <tr>\n",
              "      <th>0</th>\n",
              "      <td>0.966578</td>\n",
              "      <td>0.989056</td>\n",
              "      <td>0.977688</td>\n",
              "      <td>731.000000</td>\n",
              "    </tr>\n",
              "    <tr>\n",
              "      <th>1</th>\n",
              "      <td>0.921569</td>\n",
              "      <td>0.789916</td>\n",
              "      <td>0.850679</td>\n",
              "      <td>119.000000</td>\n",
              "    </tr>\n",
              "    <tr>\n",
              "      <th>accuracy</th>\n",
              "      <td>0.961176</td>\n",
              "      <td>0.961176</td>\n",
              "      <td>0.961176</td>\n",
              "      <td>0.961176</td>\n",
              "    </tr>\n",
              "    <tr>\n",
              "      <th>macro avg</th>\n",
              "      <td>0.944073</td>\n",
              "      <td>0.889486</td>\n",
              "      <td>0.914183</td>\n",
              "      <td>850.000000</td>\n",
              "    </tr>\n",
              "    <tr>\n",
              "      <th>weighted avg</th>\n",
              "      <td>0.960276</td>\n",
              "      <td>0.961176</td>\n",
              "      <td>0.959906</td>\n",
              "      <td>850.000000</td>\n",
              "    </tr>\n",
              "  </tbody>\n",
              "</table>\n",
              "</div>\n",
              "      <button class=\"colab-df-convert\" onclick=\"convertToInteractive('df-262ead9d-a86b-44ae-9368-bf7b4051af6e')\"\n",
              "              title=\"Convert this dataframe to an interactive table.\"\n",
              "              style=\"display:none;\">\n",
              "        \n",
              "  <svg xmlns=\"http://www.w3.org/2000/svg\" height=\"24px\"viewBox=\"0 0 24 24\"\n",
              "       width=\"24px\">\n",
              "    <path d=\"M0 0h24v24H0V0z\" fill=\"none\"/>\n",
              "    <path d=\"M18.56 5.44l.94 2.06.94-2.06 2.06-.94-2.06-.94-.94-2.06-.94 2.06-2.06.94zm-11 1L8.5 8.5l.94-2.06 2.06-.94-2.06-.94L8.5 2.5l-.94 2.06-2.06.94zm10 10l.94 2.06.94-2.06 2.06-.94-2.06-.94-.94-2.06-.94 2.06-2.06.94z\"/><path d=\"M17.41 7.96l-1.37-1.37c-.4-.4-.92-.59-1.43-.59-.52 0-1.04.2-1.43.59L10.3 9.45l-7.72 7.72c-.78.78-.78 2.05 0 2.83L4 21.41c.39.39.9.59 1.41.59.51 0 1.02-.2 1.41-.59l7.78-7.78 2.81-2.81c.8-.78.8-2.07 0-2.86zM5.41 20L4 18.59l7.72-7.72 1.47 1.35L5.41 20z\"/>\n",
              "  </svg>\n",
              "      </button>\n",
              "      \n",
              "  <style>\n",
              "    .colab-df-container {\n",
              "      display:flex;\n",
              "      flex-wrap:wrap;\n",
              "      gap: 12px;\n",
              "    }\n",
              "\n",
              "    .colab-df-convert {\n",
              "      background-color: #E8F0FE;\n",
              "      border: none;\n",
              "      border-radius: 50%;\n",
              "      cursor: pointer;\n",
              "      display: none;\n",
              "      fill: #1967D2;\n",
              "      height: 32px;\n",
              "      padding: 0 0 0 0;\n",
              "      width: 32px;\n",
              "    }\n",
              "\n",
              "    .colab-df-convert:hover {\n",
              "      background-color: #E2EBFA;\n",
              "      box-shadow: 0px 1px 2px rgba(60, 64, 67, 0.3), 0px 1px 3px 1px rgba(60, 64, 67, 0.15);\n",
              "      fill: #174EA6;\n",
              "    }\n",
              "\n",
              "    [theme=dark] .colab-df-convert {\n",
              "      background-color: #3B4455;\n",
              "      fill: #D2E3FC;\n",
              "    }\n",
              "\n",
              "    [theme=dark] .colab-df-convert:hover {\n",
              "      background-color: #434B5C;\n",
              "      box-shadow: 0px 1px 3px 1px rgba(0, 0, 0, 0.15);\n",
              "      filter: drop-shadow(0px 1px 2px rgba(0, 0, 0, 0.3));\n",
              "      fill: #FFFFFF;\n",
              "    }\n",
              "  </style>\n",
              "\n",
              "      <script>\n",
              "        const buttonEl =\n",
              "          document.querySelector('#df-262ead9d-a86b-44ae-9368-bf7b4051af6e button.colab-df-convert');\n",
              "        buttonEl.style.display =\n",
              "          google.colab.kernel.accessAllowed ? 'block' : 'none';\n",
              "\n",
              "        async function convertToInteractive(key) {\n",
              "          const element = document.querySelector('#df-262ead9d-a86b-44ae-9368-bf7b4051af6e');\n",
              "          const dataTable =\n",
              "            await google.colab.kernel.invokeFunction('convertToInteractive',\n",
              "                                                     [key], {});\n",
              "          if (!dataTable) return;\n",
              "\n",
              "          const docLinkHtml = 'Like what you see? Visit the ' +\n",
              "            '<a target=\"_blank\" href=https://colab.research.google.com/notebooks/data_table.ipynb>data table notebook</a>'\n",
              "            + ' to learn more about interactive tables.';\n",
              "          element.innerHTML = '';\n",
              "          dataTable['output_type'] = 'display_data';\n",
              "          await google.colab.output.renderOutput(dataTable, element);\n",
              "          const docLink = document.createElement('div');\n",
              "          docLink.innerHTML = docLinkHtml;\n",
              "          element.appendChild(docLink);\n",
              "        }\n",
              "      </script>\n",
              "    </div>\n",
              "  </div>\n",
              "  "
            ]
          },
          "metadata": {},
          "execution_count": 103
        }
      ]
    },
    {
      "cell_type": "markdown",
      "source": [
        "### DecisionTreeClassifier"
      ],
      "metadata": {
        "id": "4KCgEGhQlFCt"
      }
    },
    {
      "cell_type": "code",
      "source": [
        "DT = DecisionTreeClassifier(max_depth=None, min_samples_split=2,random_state=0)\n",
        "DT.fit(X_train, y_train)\n",
        "models.loc['train_acc','DecisionTree'] = accuracy_score(y_train, DT.predict(X_train))"
      ],
      "metadata": {
        "id": "tNo6Ct3xiRH3"
      },
      "execution_count": null,
      "outputs": []
    },
    {
      "cell_type": "code",
      "source": [
        "DT_pred = DT.predict(X_test)"
      ],
      "metadata": {
        "id": "SNPoqw-BidJs"
      },
      "execution_count": null,
      "outputs": []
    },
    {
      "cell_type": "code",
      "source": [
        "accuracy_score(y_test, DT_pred)"
      ],
      "metadata": {
        "colab": {
          "base_uri": "https://localhost:8080/"
        },
        "id": "KPHvbxngiiWv",
        "outputId": "1bab79d8-fba9-496b-b97a-77c10feddea4"
      },
      "execution_count": null,
      "outputs": [
        {
          "output_type": "execute_result",
          "data": {
            "text/plain": [
              "0.9411764705882353"
            ]
          },
          "metadata": {},
          "execution_count": 106
        }
      ]
    },
    {
      "cell_type": "code",
      "source": [
        "DT_cr = classification_report(y_test, DT_pred, output_dict=True)\n",
        "pd.DataFrame(DT_cr).transpose()"
      ],
      "metadata": {
        "colab": {
          "base_uri": "https://localhost:8080/",
          "height": 206
        },
        "id": "dKt2pNKIijqH",
        "outputId": "726ea2d6-3e3f-4e01-9fe2-f0e6bd51857e"
      },
      "execution_count": null,
      "outputs": [
        {
          "output_type": "execute_result",
          "data": {
            "text/plain": [
              "              precision    recall  f1-score     support\n",
              "0              0.967078  0.964432  0.965753  731.000000\n",
              "1              0.785124  0.798319  0.791667  119.000000\n",
              "accuracy       0.941176  0.941176  0.941176    0.941176\n",
              "macro avg      0.876101  0.881376  0.878710  850.000000\n",
              "weighted avg   0.941605  0.941176  0.941381  850.000000"
            ],
            "text/html": [
              "\n",
              "  <div id=\"df-34034216-6e26-4439-b611-57cd0573bcc9\">\n",
              "    <div class=\"colab-df-container\">\n",
              "      <div>\n",
              "<style scoped>\n",
              "    .dataframe tbody tr th:only-of-type {\n",
              "        vertical-align: middle;\n",
              "    }\n",
              "\n",
              "    .dataframe tbody tr th {\n",
              "        vertical-align: top;\n",
              "    }\n",
              "\n",
              "    .dataframe thead th {\n",
              "        text-align: right;\n",
              "    }\n",
              "</style>\n",
              "<table border=\"1\" class=\"dataframe\">\n",
              "  <thead>\n",
              "    <tr style=\"text-align: right;\">\n",
              "      <th></th>\n",
              "      <th>precision</th>\n",
              "      <th>recall</th>\n",
              "      <th>f1-score</th>\n",
              "      <th>support</th>\n",
              "    </tr>\n",
              "  </thead>\n",
              "  <tbody>\n",
              "    <tr>\n",
              "      <th>0</th>\n",
              "      <td>0.967078</td>\n",
              "      <td>0.964432</td>\n",
              "      <td>0.965753</td>\n",
              "      <td>731.000000</td>\n",
              "    </tr>\n",
              "    <tr>\n",
              "      <th>1</th>\n",
              "      <td>0.785124</td>\n",
              "      <td>0.798319</td>\n",
              "      <td>0.791667</td>\n",
              "      <td>119.000000</td>\n",
              "    </tr>\n",
              "    <tr>\n",
              "      <th>accuracy</th>\n",
              "      <td>0.941176</td>\n",
              "      <td>0.941176</td>\n",
              "      <td>0.941176</td>\n",
              "      <td>0.941176</td>\n",
              "    </tr>\n",
              "    <tr>\n",
              "      <th>macro avg</th>\n",
              "      <td>0.876101</td>\n",
              "      <td>0.881376</td>\n",
              "      <td>0.878710</td>\n",
              "      <td>850.000000</td>\n",
              "    </tr>\n",
              "    <tr>\n",
              "      <th>weighted avg</th>\n",
              "      <td>0.941605</td>\n",
              "      <td>0.941176</td>\n",
              "      <td>0.941381</td>\n",
              "      <td>850.000000</td>\n",
              "    </tr>\n",
              "  </tbody>\n",
              "</table>\n",
              "</div>\n",
              "      <button class=\"colab-df-convert\" onclick=\"convertToInteractive('df-34034216-6e26-4439-b611-57cd0573bcc9')\"\n",
              "              title=\"Convert this dataframe to an interactive table.\"\n",
              "              style=\"display:none;\">\n",
              "        \n",
              "  <svg xmlns=\"http://www.w3.org/2000/svg\" height=\"24px\"viewBox=\"0 0 24 24\"\n",
              "       width=\"24px\">\n",
              "    <path d=\"M0 0h24v24H0V0z\" fill=\"none\"/>\n",
              "    <path d=\"M18.56 5.44l.94 2.06.94-2.06 2.06-.94-2.06-.94-.94-2.06-.94 2.06-2.06.94zm-11 1L8.5 8.5l.94-2.06 2.06-.94-2.06-.94L8.5 2.5l-.94 2.06-2.06.94zm10 10l.94 2.06.94-2.06 2.06-.94-2.06-.94-.94-2.06-.94 2.06-2.06.94z\"/><path d=\"M17.41 7.96l-1.37-1.37c-.4-.4-.92-.59-1.43-.59-.52 0-1.04.2-1.43.59L10.3 9.45l-7.72 7.72c-.78.78-.78 2.05 0 2.83L4 21.41c.39.39.9.59 1.41.59.51 0 1.02-.2 1.41-.59l7.78-7.78 2.81-2.81c.8-.78.8-2.07 0-2.86zM5.41 20L4 18.59l7.72-7.72 1.47 1.35L5.41 20z\"/>\n",
              "  </svg>\n",
              "      </button>\n",
              "      \n",
              "  <style>\n",
              "    .colab-df-container {\n",
              "      display:flex;\n",
              "      flex-wrap:wrap;\n",
              "      gap: 12px;\n",
              "    }\n",
              "\n",
              "    .colab-df-convert {\n",
              "      background-color: #E8F0FE;\n",
              "      border: none;\n",
              "      border-radius: 50%;\n",
              "      cursor: pointer;\n",
              "      display: none;\n",
              "      fill: #1967D2;\n",
              "      height: 32px;\n",
              "      padding: 0 0 0 0;\n",
              "      width: 32px;\n",
              "    }\n",
              "\n",
              "    .colab-df-convert:hover {\n",
              "      background-color: #E2EBFA;\n",
              "      box-shadow: 0px 1px 2px rgba(60, 64, 67, 0.3), 0px 1px 3px 1px rgba(60, 64, 67, 0.15);\n",
              "      fill: #174EA6;\n",
              "    }\n",
              "\n",
              "    [theme=dark] .colab-df-convert {\n",
              "      background-color: #3B4455;\n",
              "      fill: #D2E3FC;\n",
              "    }\n",
              "\n",
              "    [theme=dark] .colab-df-convert:hover {\n",
              "      background-color: #434B5C;\n",
              "      box-shadow: 0px 1px 3px 1px rgba(0, 0, 0, 0.15);\n",
              "      filter: drop-shadow(0px 1px 2px rgba(0, 0, 0, 0.3));\n",
              "      fill: #FFFFFF;\n",
              "    }\n",
              "  </style>\n",
              "\n",
              "      <script>\n",
              "        const buttonEl =\n",
              "          document.querySelector('#df-34034216-6e26-4439-b611-57cd0573bcc9 button.colab-df-convert');\n",
              "        buttonEl.style.display =\n",
              "          google.colab.kernel.accessAllowed ? 'block' : 'none';\n",
              "\n",
              "        async function convertToInteractive(key) {\n",
              "          const element = document.querySelector('#df-34034216-6e26-4439-b611-57cd0573bcc9');\n",
              "          const dataTable =\n",
              "            await google.colab.kernel.invokeFunction('convertToInteractive',\n",
              "                                                     [key], {});\n",
              "          if (!dataTable) return;\n",
              "\n",
              "          const docLinkHtml = 'Like what you see? Visit the ' +\n",
              "            '<a target=\"_blank\" href=https://colab.research.google.com/notebooks/data_table.ipynb>data table notebook</a>'\n",
              "            + ' to learn more about interactive tables.';\n",
              "          element.innerHTML = '';\n",
              "          dataTable['output_type'] = 'display_data';\n",
              "          await google.colab.output.renderOutput(dataTable, element);\n",
              "          const docLink = document.createElement('div');\n",
              "          docLink.innerHTML = docLinkHtml;\n",
              "          element.appendChild(docLink);\n",
              "        }\n",
              "      </script>\n",
              "    </div>\n",
              "  </div>\n",
              "  "
            ]
          },
          "metadata": {},
          "execution_count": 107
        }
      ]
    },
    {
      "cell_type": "markdown",
      "source": [
        "### AdaBoostClassifier"
      ],
      "metadata": {
        "id": "juPVTAJulJ8j"
      }
    },
    {
      "cell_type": "code",
      "source": [
        "AB = AdaBoostClassifier(n_estimators=100,  random_state=0)\n",
        "AB.fit(X_train, y_train)\n",
        "models.loc['train_acc','AdaBoost'] = accuracy_score(y_train, AB.predict(X_train))"
      ],
      "metadata": {
        "id": "G-cfLDErinGK"
      },
      "execution_count": null,
      "outputs": []
    },
    {
      "cell_type": "code",
      "source": [
        "AB_pred = AB.predict(X_test)"
      ],
      "metadata": {
        "id": "-_ArPb60jDre"
      },
      "execution_count": null,
      "outputs": []
    },
    {
      "cell_type": "code",
      "source": [
        "accuracy_score(y_test, AB_pred)"
      ],
      "metadata": {
        "colab": {
          "base_uri": "https://localhost:8080/"
        },
        "id": "S06HOs42jIYu",
        "outputId": "43f0ffa2-5261-416f-ca7b-cc82597e7cc2"
      },
      "execution_count": null,
      "outputs": [
        {
          "output_type": "execute_result",
          "data": {
            "text/plain": [
              "0.9247058823529412"
            ]
          },
          "metadata": {},
          "execution_count": 110
        }
      ]
    },
    {
      "cell_type": "code",
      "source": [
        "AB_cr = classification_report(y_test, AB_pred, output_dict=True)\n",
        "pd.DataFrame(AB_cr).transpose()"
      ],
      "metadata": {
        "colab": {
          "base_uri": "https://localhost:8080/",
          "height": 206
        },
        "id": "SUMyUxzRjKEP",
        "outputId": "c864dea4-6e46-4be6-f1d1-edf55a0033e5"
      },
      "execution_count": null,
      "outputs": [
        {
          "output_type": "execute_result",
          "data": {
            "text/plain": [
              "              precision    recall  f1-score     support\n",
              "0              0.939394  0.975376  0.957047  731.000000\n",
              "1              0.802198  0.613445  0.695238  119.000000\n",
              "accuracy       0.924706  0.924706  0.924706    0.924706\n",
              "macro avg      0.870796  0.794411  0.826143  850.000000\n",
              "weighted avg   0.920186  0.924706  0.920394  850.000000"
            ],
            "text/html": [
              "\n",
              "  <div id=\"df-a9df63dc-5441-4f62-97fe-725b257892cd\">\n",
              "    <div class=\"colab-df-container\">\n",
              "      <div>\n",
              "<style scoped>\n",
              "    .dataframe tbody tr th:only-of-type {\n",
              "        vertical-align: middle;\n",
              "    }\n",
              "\n",
              "    .dataframe tbody tr th {\n",
              "        vertical-align: top;\n",
              "    }\n",
              "\n",
              "    .dataframe thead th {\n",
              "        text-align: right;\n",
              "    }\n",
              "</style>\n",
              "<table border=\"1\" class=\"dataframe\">\n",
              "  <thead>\n",
              "    <tr style=\"text-align: right;\">\n",
              "      <th></th>\n",
              "      <th>precision</th>\n",
              "      <th>recall</th>\n",
              "      <th>f1-score</th>\n",
              "      <th>support</th>\n",
              "    </tr>\n",
              "  </thead>\n",
              "  <tbody>\n",
              "    <tr>\n",
              "      <th>0</th>\n",
              "      <td>0.939394</td>\n",
              "      <td>0.975376</td>\n",
              "      <td>0.957047</td>\n",
              "      <td>731.000000</td>\n",
              "    </tr>\n",
              "    <tr>\n",
              "      <th>1</th>\n",
              "      <td>0.802198</td>\n",
              "      <td>0.613445</td>\n",
              "      <td>0.695238</td>\n",
              "      <td>119.000000</td>\n",
              "    </tr>\n",
              "    <tr>\n",
              "      <th>accuracy</th>\n",
              "      <td>0.924706</td>\n",
              "      <td>0.924706</td>\n",
              "      <td>0.924706</td>\n",
              "      <td>0.924706</td>\n",
              "    </tr>\n",
              "    <tr>\n",
              "      <th>macro avg</th>\n",
              "      <td>0.870796</td>\n",
              "      <td>0.794411</td>\n",
              "      <td>0.826143</td>\n",
              "      <td>850.000000</td>\n",
              "    </tr>\n",
              "    <tr>\n",
              "      <th>weighted avg</th>\n",
              "      <td>0.920186</td>\n",
              "      <td>0.924706</td>\n",
              "      <td>0.920394</td>\n",
              "      <td>850.000000</td>\n",
              "    </tr>\n",
              "  </tbody>\n",
              "</table>\n",
              "</div>\n",
              "      <button class=\"colab-df-convert\" onclick=\"convertToInteractive('df-a9df63dc-5441-4f62-97fe-725b257892cd')\"\n",
              "              title=\"Convert this dataframe to an interactive table.\"\n",
              "              style=\"display:none;\">\n",
              "        \n",
              "  <svg xmlns=\"http://www.w3.org/2000/svg\" height=\"24px\"viewBox=\"0 0 24 24\"\n",
              "       width=\"24px\">\n",
              "    <path d=\"M0 0h24v24H0V0z\" fill=\"none\"/>\n",
              "    <path d=\"M18.56 5.44l.94 2.06.94-2.06 2.06-.94-2.06-.94-.94-2.06-.94 2.06-2.06.94zm-11 1L8.5 8.5l.94-2.06 2.06-.94-2.06-.94L8.5 2.5l-.94 2.06-2.06.94zm10 10l.94 2.06.94-2.06 2.06-.94-2.06-.94-.94-2.06-.94 2.06-2.06.94z\"/><path d=\"M17.41 7.96l-1.37-1.37c-.4-.4-.92-.59-1.43-.59-.52 0-1.04.2-1.43.59L10.3 9.45l-7.72 7.72c-.78.78-.78 2.05 0 2.83L4 21.41c.39.39.9.59 1.41.59.51 0 1.02-.2 1.41-.59l7.78-7.78 2.81-2.81c.8-.78.8-2.07 0-2.86zM5.41 20L4 18.59l7.72-7.72 1.47 1.35L5.41 20z\"/>\n",
              "  </svg>\n",
              "      </button>\n",
              "      \n",
              "  <style>\n",
              "    .colab-df-container {\n",
              "      display:flex;\n",
              "      flex-wrap:wrap;\n",
              "      gap: 12px;\n",
              "    }\n",
              "\n",
              "    .colab-df-convert {\n",
              "      background-color: #E8F0FE;\n",
              "      border: none;\n",
              "      border-radius: 50%;\n",
              "      cursor: pointer;\n",
              "      display: none;\n",
              "      fill: #1967D2;\n",
              "      height: 32px;\n",
              "      padding: 0 0 0 0;\n",
              "      width: 32px;\n",
              "    }\n",
              "\n",
              "    .colab-df-convert:hover {\n",
              "      background-color: #E2EBFA;\n",
              "      box-shadow: 0px 1px 2px rgba(60, 64, 67, 0.3), 0px 1px 3px 1px rgba(60, 64, 67, 0.15);\n",
              "      fill: #174EA6;\n",
              "    }\n",
              "\n",
              "    [theme=dark] .colab-df-convert {\n",
              "      background-color: #3B4455;\n",
              "      fill: #D2E3FC;\n",
              "    }\n",
              "\n",
              "    [theme=dark] .colab-df-convert:hover {\n",
              "      background-color: #434B5C;\n",
              "      box-shadow: 0px 1px 3px 1px rgba(0, 0, 0, 0.15);\n",
              "      filter: drop-shadow(0px 1px 2px rgba(0, 0, 0, 0.3));\n",
              "      fill: #FFFFFF;\n",
              "    }\n",
              "  </style>\n",
              "\n",
              "      <script>\n",
              "        const buttonEl =\n",
              "          document.querySelector('#df-a9df63dc-5441-4f62-97fe-725b257892cd button.colab-df-convert');\n",
              "        buttonEl.style.display =\n",
              "          google.colab.kernel.accessAllowed ? 'block' : 'none';\n",
              "\n",
              "        async function convertToInteractive(key) {\n",
              "          const element = document.querySelector('#df-a9df63dc-5441-4f62-97fe-725b257892cd');\n",
              "          const dataTable =\n",
              "            await google.colab.kernel.invokeFunction('convertToInteractive',\n",
              "                                                     [key], {});\n",
              "          if (!dataTable) return;\n",
              "\n",
              "          const docLinkHtml = 'Like what you see? Visit the ' +\n",
              "            '<a target=\"_blank\" href=https://colab.research.google.com/notebooks/data_table.ipynb>data table notebook</a>'\n",
              "            + ' to learn more about interactive tables.';\n",
              "          element.innerHTML = '';\n",
              "          dataTable['output_type'] = 'display_data';\n",
              "          await google.colab.output.renderOutput(dataTable, element);\n",
              "          const docLink = document.createElement('div');\n",
              "          docLink.innerHTML = docLinkHtml;\n",
              "          element.appendChild(docLink);\n",
              "        }\n",
              "      </script>\n",
              "    </div>\n",
              "  </div>\n",
              "  "
            ]
          },
          "metadata": {},
          "execution_count": 111
        }
      ]
    },
    {
      "cell_type": "markdown",
      "source": [
        "### SVC"
      ],
      "metadata": {
        "id": "zDtt9QxilNSn"
      }
    },
    {
      "cell_type": "code",
      "source": [
        "SVC=SVC()\n",
        "SVC.fit(X_train,y_train)\n",
        "models.loc['train_acc','SVC']=accuracy_score(y_train,SVC.predict(X_train))"
      ],
      "metadata": {
        "id": "QgBR_S9XjM7U"
      },
      "execution_count": null,
      "outputs": []
    },
    {
      "cell_type": "code",
      "source": [
        "SVC_pred = SVC.predict(X_test)"
      ],
      "metadata": {
        "id": "evGBl1C0jm-J"
      },
      "execution_count": null,
      "outputs": []
    },
    {
      "cell_type": "code",
      "source": [
        "accuracy_score(y_test, SVC_pred)"
      ],
      "metadata": {
        "colab": {
          "base_uri": "https://localhost:8080/"
        },
        "outputId": "40abc579-2707-48ef-e630-a661926a089e",
        "id": "6GHjfSQkjm-K"
      },
      "execution_count": null,
      "outputs": [
        {
          "output_type": "execute_result",
          "data": {
            "text/plain": [
              "0.86"
            ]
          },
          "metadata": {},
          "execution_count": 114
        }
      ]
    },
    {
      "cell_type": "code",
      "source": [
        "SVC_cr = classification_report(y_test, SVC_pred, output_dict=True)\n",
        "pd.DataFrame(SVC_cr).transpose()"
      ],
      "metadata": {
        "colab": {
          "base_uri": "https://localhost:8080/",
          "height": 337
        },
        "outputId": "af71e81e-ad71-4ff9-9508-ee2cdcfa4f68",
        "id": "YYA07iWjjm-L"
      },
      "execution_count": null,
      "outputs": [
        {
          "output_type": "stream",
          "name": "stderr",
          "text": [
            "/usr/local/lib/python3.8/dist-packages/sklearn/metrics/_classification.py:1318: UndefinedMetricWarning: Precision and F-score are ill-defined and being set to 0.0 in labels with no predicted samples. Use `zero_division` parameter to control this behavior.\n",
            "  _warn_prf(average, modifier, msg_start, len(result))\n",
            "/usr/local/lib/python3.8/dist-packages/sklearn/metrics/_classification.py:1318: UndefinedMetricWarning: Precision and F-score are ill-defined and being set to 0.0 in labels with no predicted samples. Use `zero_division` parameter to control this behavior.\n",
            "  _warn_prf(average, modifier, msg_start, len(result))\n",
            "/usr/local/lib/python3.8/dist-packages/sklearn/metrics/_classification.py:1318: UndefinedMetricWarning: Precision and F-score are ill-defined and being set to 0.0 in labels with no predicted samples. Use `zero_division` parameter to control this behavior.\n",
            "  _warn_prf(average, modifier, msg_start, len(result))\n"
          ]
        },
        {
          "output_type": "execute_result",
          "data": {
            "text/plain": [
              "              precision  recall  f1-score  support\n",
              "0                0.8600    1.00  0.924731   731.00\n",
              "1                0.0000    0.00  0.000000   119.00\n",
              "accuracy         0.8600    0.86  0.860000     0.86\n",
              "macro avg        0.4300    0.50  0.462366   850.00\n",
              "weighted avg     0.7396    0.86  0.795269   850.00"
            ],
            "text/html": [
              "\n",
              "  <div id=\"df-95ba39a2-e109-4845-b6ca-bc9de23e4a65\">\n",
              "    <div class=\"colab-df-container\">\n",
              "      <div>\n",
              "<style scoped>\n",
              "    .dataframe tbody tr th:only-of-type {\n",
              "        vertical-align: middle;\n",
              "    }\n",
              "\n",
              "    .dataframe tbody tr th {\n",
              "        vertical-align: top;\n",
              "    }\n",
              "\n",
              "    .dataframe thead th {\n",
              "        text-align: right;\n",
              "    }\n",
              "</style>\n",
              "<table border=\"1\" class=\"dataframe\">\n",
              "  <thead>\n",
              "    <tr style=\"text-align: right;\">\n",
              "      <th></th>\n",
              "      <th>precision</th>\n",
              "      <th>recall</th>\n",
              "      <th>f1-score</th>\n",
              "      <th>support</th>\n",
              "    </tr>\n",
              "  </thead>\n",
              "  <tbody>\n",
              "    <tr>\n",
              "      <th>0</th>\n",
              "      <td>0.8600</td>\n",
              "      <td>1.00</td>\n",
              "      <td>0.924731</td>\n",
              "      <td>731.00</td>\n",
              "    </tr>\n",
              "    <tr>\n",
              "      <th>1</th>\n",
              "      <td>0.0000</td>\n",
              "      <td>0.00</td>\n",
              "      <td>0.000000</td>\n",
              "      <td>119.00</td>\n",
              "    </tr>\n",
              "    <tr>\n",
              "      <th>accuracy</th>\n",
              "      <td>0.8600</td>\n",
              "      <td>0.86</td>\n",
              "      <td>0.860000</td>\n",
              "      <td>0.86</td>\n",
              "    </tr>\n",
              "    <tr>\n",
              "      <th>macro avg</th>\n",
              "      <td>0.4300</td>\n",
              "      <td>0.50</td>\n",
              "      <td>0.462366</td>\n",
              "      <td>850.00</td>\n",
              "    </tr>\n",
              "    <tr>\n",
              "      <th>weighted avg</th>\n",
              "      <td>0.7396</td>\n",
              "      <td>0.86</td>\n",
              "      <td>0.795269</td>\n",
              "      <td>850.00</td>\n",
              "    </tr>\n",
              "  </tbody>\n",
              "</table>\n",
              "</div>\n",
              "      <button class=\"colab-df-convert\" onclick=\"convertToInteractive('df-95ba39a2-e109-4845-b6ca-bc9de23e4a65')\"\n",
              "              title=\"Convert this dataframe to an interactive table.\"\n",
              "              style=\"display:none;\">\n",
              "        \n",
              "  <svg xmlns=\"http://www.w3.org/2000/svg\" height=\"24px\"viewBox=\"0 0 24 24\"\n",
              "       width=\"24px\">\n",
              "    <path d=\"M0 0h24v24H0V0z\" fill=\"none\"/>\n",
              "    <path d=\"M18.56 5.44l.94 2.06.94-2.06 2.06-.94-2.06-.94-.94-2.06-.94 2.06-2.06.94zm-11 1L8.5 8.5l.94-2.06 2.06-.94-2.06-.94L8.5 2.5l-.94 2.06-2.06.94zm10 10l.94 2.06.94-2.06 2.06-.94-2.06-.94-.94-2.06-.94 2.06-2.06.94z\"/><path d=\"M17.41 7.96l-1.37-1.37c-.4-.4-.92-.59-1.43-.59-.52 0-1.04.2-1.43.59L10.3 9.45l-7.72 7.72c-.78.78-.78 2.05 0 2.83L4 21.41c.39.39.9.59 1.41.59.51 0 1.02-.2 1.41-.59l7.78-7.78 2.81-2.81c.8-.78.8-2.07 0-2.86zM5.41 20L4 18.59l7.72-7.72 1.47 1.35L5.41 20z\"/>\n",
              "  </svg>\n",
              "      </button>\n",
              "      \n",
              "  <style>\n",
              "    .colab-df-container {\n",
              "      display:flex;\n",
              "      flex-wrap:wrap;\n",
              "      gap: 12px;\n",
              "    }\n",
              "\n",
              "    .colab-df-convert {\n",
              "      background-color: #E8F0FE;\n",
              "      border: none;\n",
              "      border-radius: 50%;\n",
              "      cursor: pointer;\n",
              "      display: none;\n",
              "      fill: #1967D2;\n",
              "      height: 32px;\n",
              "      padding: 0 0 0 0;\n",
              "      width: 32px;\n",
              "    }\n",
              "\n",
              "    .colab-df-convert:hover {\n",
              "      background-color: #E2EBFA;\n",
              "      box-shadow: 0px 1px 2px rgba(60, 64, 67, 0.3), 0px 1px 3px 1px rgba(60, 64, 67, 0.15);\n",
              "      fill: #174EA6;\n",
              "    }\n",
              "\n",
              "    [theme=dark] .colab-df-convert {\n",
              "      background-color: #3B4455;\n",
              "      fill: #D2E3FC;\n",
              "    }\n",
              "\n",
              "    [theme=dark] .colab-df-convert:hover {\n",
              "      background-color: #434B5C;\n",
              "      box-shadow: 0px 1px 3px 1px rgba(0, 0, 0, 0.15);\n",
              "      filter: drop-shadow(0px 1px 2px rgba(0, 0, 0, 0.3));\n",
              "      fill: #FFFFFF;\n",
              "    }\n",
              "  </style>\n",
              "\n",
              "      <script>\n",
              "        const buttonEl =\n",
              "          document.querySelector('#df-95ba39a2-e109-4845-b6ca-bc9de23e4a65 button.colab-df-convert');\n",
              "        buttonEl.style.display =\n",
              "          google.colab.kernel.accessAllowed ? 'block' : 'none';\n",
              "\n",
              "        async function convertToInteractive(key) {\n",
              "          const element = document.querySelector('#df-95ba39a2-e109-4845-b6ca-bc9de23e4a65');\n",
              "          const dataTable =\n",
              "            await google.colab.kernel.invokeFunction('convertToInteractive',\n",
              "                                                     [key], {});\n",
              "          if (!dataTable) return;\n",
              "\n",
              "          const docLinkHtml = 'Like what you see? Visit the ' +\n",
              "            '<a target=\"_blank\" href=https://colab.research.google.com/notebooks/data_table.ipynb>data table notebook</a>'\n",
              "            + ' to learn more about interactive tables.';\n",
              "          element.innerHTML = '';\n",
              "          dataTable['output_type'] = 'display_data';\n",
              "          await google.colab.output.renderOutput(dataTable, element);\n",
              "          const docLink = document.createElement('div');\n",
              "          docLink.innerHTML = docLinkHtml;\n",
              "          element.appendChild(docLink);\n",
              "        }\n",
              "      </script>\n",
              "    </div>\n",
              "  </div>\n",
              "  "
            ]
          },
          "metadata": {},
          "execution_count": 115
        }
      ]
    },
    {
      "cell_type": "markdown",
      "source": [
        "### GaussianNB"
      ],
      "metadata": {
        "id": "NmBc_FgrlQv1"
      }
    },
    {
      "cell_type": "code",
      "source": [
        "GNB=GaussianNB()\n",
        "GNB.fit(X_train,y_train)\n",
        "models.loc['train_acc','GNB']=accuracy_score(y_train,GNB.predict(X_train))"
      ],
      "metadata": {
        "id": "5Ine8OCYj3tK"
      },
      "execution_count": null,
      "outputs": []
    },
    {
      "cell_type": "code",
      "source": [
        "GNB_pred = GNB.predict(X_test)"
      ],
      "metadata": {
        "id": "Z8CN9J-4kMFb"
      },
      "execution_count": null,
      "outputs": []
    },
    {
      "cell_type": "code",
      "source": [
        "accuracy_score(y_test, GNB_pred)"
      ],
      "metadata": {
        "colab": {
          "base_uri": "https://localhost:8080/"
        },
        "outputId": "29c8c960-88ee-482c-b2bb-35a891f36f03",
        "id": "feRDXi1YkMFd"
      },
      "execution_count": null,
      "outputs": [
        {
          "output_type": "execute_result",
          "data": {
            "text/plain": [
              "0.8705882352941177"
            ]
          },
          "metadata": {},
          "execution_count": 118
        }
      ]
    },
    {
      "cell_type": "code",
      "source": [
        "GNB_cr = classification_report(y_test, GNB_pred, output_dict=True)\n",
        "pd.DataFrame(GNB_cr).transpose()"
      ],
      "metadata": {
        "colab": {
          "base_uri": "https://localhost:8080/",
          "height": 206
        },
        "outputId": "3bef92fb-36e4-4c92-e38e-38933459623a",
        "id": "fWU0dCbDkMFe"
      },
      "execution_count": null,
      "outputs": [
        {
          "output_type": "execute_result",
          "data": {
            "text/plain": [
              "              precision    recall  f1-score     support\n",
              "0              0.927098  0.922025  0.924554  731.000000\n",
              "1              0.536585  0.554622  0.545455  119.000000\n",
              "accuracy       0.870588  0.870588  0.870588    0.870588\n",
              "macro avg      0.731842  0.738323  0.735004  850.000000\n",
              "weighted avg   0.872426  0.870588  0.871480  850.000000"
            ],
            "text/html": [
              "\n",
              "  <div id=\"df-1f6e0a8a-4e34-4a07-99b8-a5ed5fbe68e3\">\n",
              "    <div class=\"colab-df-container\">\n",
              "      <div>\n",
              "<style scoped>\n",
              "    .dataframe tbody tr th:only-of-type {\n",
              "        vertical-align: middle;\n",
              "    }\n",
              "\n",
              "    .dataframe tbody tr th {\n",
              "        vertical-align: top;\n",
              "    }\n",
              "\n",
              "    .dataframe thead th {\n",
              "        text-align: right;\n",
              "    }\n",
              "</style>\n",
              "<table border=\"1\" class=\"dataframe\">\n",
              "  <thead>\n",
              "    <tr style=\"text-align: right;\">\n",
              "      <th></th>\n",
              "      <th>precision</th>\n",
              "      <th>recall</th>\n",
              "      <th>f1-score</th>\n",
              "      <th>support</th>\n",
              "    </tr>\n",
              "  </thead>\n",
              "  <tbody>\n",
              "    <tr>\n",
              "      <th>0</th>\n",
              "      <td>0.927098</td>\n",
              "      <td>0.922025</td>\n",
              "      <td>0.924554</td>\n",
              "      <td>731.000000</td>\n",
              "    </tr>\n",
              "    <tr>\n",
              "      <th>1</th>\n",
              "      <td>0.536585</td>\n",
              "      <td>0.554622</td>\n",
              "      <td>0.545455</td>\n",
              "      <td>119.000000</td>\n",
              "    </tr>\n",
              "    <tr>\n",
              "      <th>accuracy</th>\n",
              "      <td>0.870588</td>\n",
              "      <td>0.870588</td>\n",
              "      <td>0.870588</td>\n",
              "      <td>0.870588</td>\n",
              "    </tr>\n",
              "    <tr>\n",
              "      <th>macro avg</th>\n",
              "      <td>0.731842</td>\n",
              "      <td>0.738323</td>\n",
              "      <td>0.735004</td>\n",
              "      <td>850.000000</td>\n",
              "    </tr>\n",
              "    <tr>\n",
              "      <th>weighted avg</th>\n",
              "      <td>0.872426</td>\n",
              "      <td>0.870588</td>\n",
              "      <td>0.871480</td>\n",
              "      <td>850.000000</td>\n",
              "    </tr>\n",
              "  </tbody>\n",
              "</table>\n",
              "</div>\n",
              "      <button class=\"colab-df-convert\" onclick=\"convertToInteractive('df-1f6e0a8a-4e34-4a07-99b8-a5ed5fbe68e3')\"\n",
              "              title=\"Convert this dataframe to an interactive table.\"\n",
              "              style=\"display:none;\">\n",
              "        \n",
              "  <svg xmlns=\"http://www.w3.org/2000/svg\" height=\"24px\"viewBox=\"0 0 24 24\"\n",
              "       width=\"24px\">\n",
              "    <path d=\"M0 0h24v24H0V0z\" fill=\"none\"/>\n",
              "    <path d=\"M18.56 5.44l.94 2.06.94-2.06 2.06-.94-2.06-.94-.94-2.06-.94 2.06-2.06.94zm-11 1L8.5 8.5l.94-2.06 2.06-.94-2.06-.94L8.5 2.5l-.94 2.06-2.06.94zm10 10l.94 2.06.94-2.06 2.06-.94-2.06-.94-.94-2.06-.94 2.06-2.06.94z\"/><path d=\"M17.41 7.96l-1.37-1.37c-.4-.4-.92-.59-1.43-.59-.52 0-1.04.2-1.43.59L10.3 9.45l-7.72 7.72c-.78.78-.78 2.05 0 2.83L4 21.41c.39.39.9.59 1.41.59.51 0 1.02-.2 1.41-.59l7.78-7.78 2.81-2.81c.8-.78.8-2.07 0-2.86zM5.41 20L4 18.59l7.72-7.72 1.47 1.35L5.41 20z\"/>\n",
              "  </svg>\n",
              "      </button>\n",
              "      \n",
              "  <style>\n",
              "    .colab-df-container {\n",
              "      display:flex;\n",
              "      flex-wrap:wrap;\n",
              "      gap: 12px;\n",
              "    }\n",
              "\n",
              "    .colab-df-convert {\n",
              "      background-color: #E8F0FE;\n",
              "      border: none;\n",
              "      border-radius: 50%;\n",
              "      cursor: pointer;\n",
              "      display: none;\n",
              "      fill: #1967D2;\n",
              "      height: 32px;\n",
              "      padding: 0 0 0 0;\n",
              "      width: 32px;\n",
              "    }\n",
              "\n",
              "    .colab-df-convert:hover {\n",
              "      background-color: #E2EBFA;\n",
              "      box-shadow: 0px 1px 2px rgba(60, 64, 67, 0.3), 0px 1px 3px 1px rgba(60, 64, 67, 0.15);\n",
              "      fill: #174EA6;\n",
              "    }\n",
              "\n",
              "    [theme=dark] .colab-df-convert {\n",
              "      background-color: #3B4455;\n",
              "      fill: #D2E3FC;\n",
              "    }\n",
              "\n",
              "    [theme=dark] .colab-df-convert:hover {\n",
              "      background-color: #434B5C;\n",
              "      box-shadow: 0px 1px 3px 1px rgba(0, 0, 0, 0.15);\n",
              "      filter: drop-shadow(0px 1px 2px rgba(0, 0, 0, 0.3));\n",
              "      fill: #FFFFFF;\n",
              "    }\n",
              "  </style>\n",
              "\n",
              "      <script>\n",
              "        const buttonEl =\n",
              "          document.querySelector('#df-1f6e0a8a-4e34-4a07-99b8-a5ed5fbe68e3 button.colab-df-convert');\n",
              "        buttonEl.style.display =\n",
              "          google.colab.kernel.accessAllowed ? 'block' : 'none';\n",
              "\n",
              "        async function convertToInteractive(key) {\n",
              "          const element = document.querySelector('#df-1f6e0a8a-4e34-4a07-99b8-a5ed5fbe68e3');\n",
              "          const dataTable =\n",
              "            await google.colab.kernel.invokeFunction('convertToInteractive',\n",
              "                                                     [key], {});\n",
              "          if (!dataTable) return;\n",
              "\n",
              "          const docLinkHtml = 'Like what you see? Visit the ' +\n",
              "            '<a target=\"_blank\" href=https://colab.research.google.com/notebooks/data_table.ipynb>data table notebook</a>'\n",
              "            + ' to learn more about interactive tables.';\n",
              "          element.innerHTML = '';\n",
              "          dataTable['output_type'] = 'display_data';\n",
              "          await google.colab.output.renderOutput(dataTable, element);\n",
              "          const docLink = document.createElement('div');\n",
              "          docLink.innerHTML = docLinkHtml;\n",
              "          element.appendChild(docLink);\n",
              "        }\n",
              "      </script>\n",
              "    </div>\n",
              "  </div>\n",
              "  "
            ]
          },
          "metadata": {},
          "execution_count": 119
        }
      ]
    },
    {
      "cell_type": "markdown",
      "source": [
        "### Dataframe Accuracy"
      ],
      "metadata": {
        "id": "WJWxrCZ8mHQ7"
      }
    },
    {
      "cell_type": "code",
      "source": [
        "# Buat variabel acc yang isinya adalah dataframe nilai acc data train dan test pada masing-masing algoritma\n",
        "acc = pd.DataFrame(columns=['train', 'test'], index=['ExtraTreesClassifier','RandomForestClassifier','DecisionTreeClassifier','AdaBoostClassifier','SVC','GaussianNB'])\n",
        " \n",
        "# Buat dictionary untuk setiap algoritma yang digunakan\n",
        "model_dict = {'ExtraTreesClassifier':ET,'RandomForestClassifier':RFC,'DecisionTreeClassifier':DT,'AdaBoostClassifier':AB,'SVC':SVC,'GaussianNB':GNB}\n",
        " \n",
        "# Hitung Mean Squared Error masing-masing algoritma pada data train dan test\n",
        "for name, model in model_dict.items():\n",
        "    acc.loc[name, 'train'] = accuracy_score(y_true=y_train, y_pred=model.predict(X_train)).round(15)*100\n",
        "    acc.loc[name, 'test'] =accuracy_score(y_true=y_test, y_pred=model.predict(X_test)).round(15)*100\n",
        "\n",
        "acc"
      ],
      "metadata": {
        "colab": {
          "base_uri": "https://localhost:8080/",
          "height": 237
        },
        "id": "4uNWU12-kXIi",
        "outputId": "a085d5d2-8ffb-4dd3-9f77-85fd949213b1"
      },
      "execution_count": null,
      "outputs": [
        {
          "output_type": "execute_result",
          "data": {
            "text/plain": [
              "                            train       test\n",
              "ExtraTreesClassifier        100.0  95.294118\n",
              "RandomForestClassifier  99.264706  96.117647\n",
              "DecisionTreeClassifier      100.0  94.117647\n",
              "AdaBoostClassifier      92.911765  92.470588\n",
              "SVC                     85.911765       86.0\n",
              "GaussianNB              87.529412  87.058824"
            ],
            "text/html": [
              "\n",
              "  <div id=\"df-673bdaa1-bf7e-4b50-b17d-bb66db105135\">\n",
              "    <div class=\"colab-df-container\">\n",
              "      <div>\n",
              "<style scoped>\n",
              "    .dataframe tbody tr th:only-of-type {\n",
              "        vertical-align: middle;\n",
              "    }\n",
              "\n",
              "    .dataframe tbody tr th {\n",
              "        vertical-align: top;\n",
              "    }\n",
              "\n",
              "    .dataframe thead th {\n",
              "        text-align: right;\n",
              "    }\n",
              "</style>\n",
              "<table border=\"1\" class=\"dataframe\">\n",
              "  <thead>\n",
              "    <tr style=\"text-align: right;\">\n",
              "      <th></th>\n",
              "      <th>train</th>\n",
              "      <th>test</th>\n",
              "    </tr>\n",
              "  </thead>\n",
              "  <tbody>\n",
              "    <tr>\n",
              "      <th>ExtraTreesClassifier</th>\n",
              "      <td>100.0</td>\n",
              "      <td>95.294118</td>\n",
              "    </tr>\n",
              "    <tr>\n",
              "      <th>RandomForestClassifier</th>\n",
              "      <td>99.264706</td>\n",
              "      <td>96.117647</td>\n",
              "    </tr>\n",
              "    <tr>\n",
              "      <th>DecisionTreeClassifier</th>\n",
              "      <td>100.0</td>\n",
              "      <td>94.117647</td>\n",
              "    </tr>\n",
              "    <tr>\n",
              "      <th>AdaBoostClassifier</th>\n",
              "      <td>92.911765</td>\n",
              "      <td>92.470588</td>\n",
              "    </tr>\n",
              "    <tr>\n",
              "      <th>SVC</th>\n",
              "      <td>85.911765</td>\n",
              "      <td>86.0</td>\n",
              "    </tr>\n",
              "    <tr>\n",
              "      <th>GaussianNB</th>\n",
              "      <td>87.529412</td>\n",
              "      <td>87.058824</td>\n",
              "    </tr>\n",
              "  </tbody>\n",
              "</table>\n",
              "</div>\n",
              "      <button class=\"colab-df-convert\" onclick=\"convertToInteractive('df-673bdaa1-bf7e-4b50-b17d-bb66db105135')\"\n",
              "              title=\"Convert this dataframe to an interactive table.\"\n",
              "              style=\"display:none;\">\n",
              "        \n",
              "  <svg xmlns=\"http://www.w3.org/2000/svg\" height=\"24px\"viewBox=\"0 0 24 24\"\n",
              "       width=\"24px\">\n",
              "    <path d=\"M0 0h24v24H0V0z\" fill=\"none\"/>\n",
              "    <path d=\"M18.56 5.44l.94 2.06.94-2.06 2.06-.94-2.06-.94-.94-2.06-.94 2.06-2.06.94zm-11 1L8.5 8.5l.94-2.06 2.06-.94-2.06-.94L8.5 2.5l-.94 2.06-2.06.94zm10 10l.94 2.06.94-2.06 2.06-.94-2.06-.94-.94-2.06-.94 2.06-2.06.94z\"/><path d=\"M17.41 7.96l-1.37-1.37c-.4-.4-.92-.59-1.43-.59-.52 0-1.04.2-1.43.59L10.3 9.45l-7.72 7.72c-.78.78-.78 2.05 0 2.83L4 21.41c.39.39.9.59 1.41.59.51 0 1.02-.2 1.41-.59l7.78-7.78 2.81-2.81c.8-.78.8-2.07 0-2.86zM5.41 20L4 18.59l7.72-7.72 1.47 1.35L5.41 20z\"/>\n",
              "  </svg>\n",
              "      </button>\n",
              "      \n",
              "  <style>\n",
              "    .colab-df-container {\n",
              "      display:flex;\n",
              "      flex-wrap:wrap;\n",
              "      gap: 12px;\n",
              "    }\n",
              "\n",
              "    .colab-df-convert {\n",
              "      background-color: #E8F0FE;\n",
              "      border: none;\n",
              "      border-radius: 50%;\n",
              "      cursor: pointer;\n",
              "      display: none;\n",
              "      fill: #1967D2;\n",
              "      height: 32px;\n",
              "      padding: 0 0 0 0;\n",
              "      width: 32px;\n",
              "    }\n",
              "\n",
              "    .colab-df-convert:hover {\n",
              "      background-color: #E2EBFA;\n",
              "      box-shadow: 0px 1px 2px rgba(60, 64, 67, 0.3), 0px 1px 3px 1px rgba(60, 64, 67, 0.15);\n",
              "      fill: #174EA6;\n",
              "    }\n",
              "\n",
              "    [theme=dark] .colab-df-convert {\n",
              "      background-color: #3B4455;\n",
              "      fill: #D2E3FC;\n",
              "    }\n",
              "\n",
              "    [theme=dark] .colab-df-convert:hover {\n",
              "      background-color: #434B5C;\n",
              "      box-shadow: 0px 1px 3px 1px rgba(0, 0, 0, 0.15);\n",
              "      filter: drop-shadow(0px 1px 2px rgba(0, 0, 0, 0.3));\n",
              "      fill: #FFFFFF;\n",
              "    }\n",
              "  </style>\n",
              "\n",
              "      <script>\n",
              "        const buttonEl =\n",
              "          document.querySelector('#df-673bdaa1-bf7e-4b50-b17d-bb66db105135 button.colab-df-convert');\n",
              "        buttonEl.style.display =\n",
              "          google.colab.kernel.accessAllowed ? 'block' : 'none';\n",
              "\n",
              "        async function convertToInteractive(key) {\n",
              "          const element = document.querySelector('#df-673bdaa1-bf7e-4b50-b17d-bb66db105135');\n",
              "          const dataTable =\n",
              "            await google.colab.kernel.invokeFunction('convertToInteractive',\n",
              "                                                     [key], {});\n",
              "          if (!dataTable) return;\n",
              "\n",
              "          const docLinkHtml = 'Like what you see? Visit the ' +\n",
              "            '<a target=\"_blank\" href=https://colab.research.google.com/notebooks/data_table.ipynb>data table notebook</a>'\n",
              "            + ' to learn more about interactive tables.';\n",
              "          element.innerHTML = '';\n",
              "          dataTable['output_type'] = 'display_data';\n",
              "          await google.colab.output.renderOutput(dataTable, element);\n",
              "          const docLink = document.createElement('div');\n",
              "          docLink.innerHTML = docLinkHtml;\n",
              "          element.appendChild(docLink);\n",
              "        }\n",
              "      </script>\n",
              "    </div>\n",
              "  </div>\n",
              "  "
            ]
          },
          "metadata": {},
          "execution_count": 120
        }
      ]
    },
    {
      "cell_type": "code",
      "source": [
        "fig, ax = plt.subplots()\n",
        "acc.sort_values(by='test', ascending=False).plot(kind='barh', ax=ax, zorder=3)\n",
        "ax.grid(zorder=0)"
      ],
      "metadata": {
        "colab": {
          "base_uri": "https://localhost:8080/",
          "height": 265
        },
        "id": "cEJsyobHmD34",
        "outputId": "f35e1044-1c0c-4d91-fe8f-a5d25057625a"
      },
      "execution_count": null,
      "outputs": [
        {
          "output_type": "display_data",
          "data": {
            "text/plain": [
              "<Figure size 432x288 with 1 Axes>"
            ],
            "image/png": "[encoded data removed]"
          },
          "metadata": {
            "needs_background": "light"
          }
        }
      ]
    },
    {
      "cell_type": "markdown",
      "source": [
        "# Evaluasi"
      ],
      "metadata": {
        "id": "l7JkYf8DmTv8"
      }
    },
    {
      "cell_type": "code",
      "source": [
        "prediksi = X_test.iloc[5:6].copy()\n",
        "pred_dict = {'y_true':y_test[5:6]}\n",
        "for name, model in model_dict.items():\n",
        "    pred_dict['prediksi_'+name] = model.predict(prediksi)\n",
        " \n",
        "pd.DataFrame(pred_dict)"
      ],
      "metadata": {
        "colab": {
          "base_uri": "https://localhost:8080/",
          "height": 81
        },
        "id": "s6_4Y0K3mRb9",
        "outputId": "56d2dc35-70f7-4414-c39f-9df5890188be"
      },
      "execution_count": null,
      "outputs": [
        {
          "output_type": "execute_result",
          "data": {
            "text/plain": [
              "      y_true  prediksi_ExtraTreesClassifier  prediksi_RandomForestClassifier  \\\n",
              "1195       0                              0                                0   \n",
              "\n",
              "      prediksi_DecisionTreeClassifier  prediksi_AdaBoostClassifier  \\\n",
              "1195                                0                            0   \n",
              "\n",
              "      prediksi_SVC  prediksi_GaussianNB  \n",
              "1195             0                    0  "
            ],
            "text/html": [
              "\n",
              "  <div id=\"df-5c45f4bb-9683-48cf-a3f8-65eb63b5970c\">\n",
              "    <div class=\"colab-df-container\">\n",
              "      <div>\n",
              "<style scoped>\n",
              "    .dataframe tbody tr th:only-of-type {\n",
              "        vertical-align: middle;\n",
              "    }\n",
              "\n",
              "    .dataframe tbody tr th {\n",
              "        vertical-align: top;\n",
              "    }\n",
              "\n",
              "    .dataframe thead th {\n",
              "        text-align: right;\n",
              "    }\n",
              "</style>\n",
              "<table border=\"1\" class=\"dataframe\">\n",
              "  <thead>\n",
              "    <tr style=\"text-align: right;\">\n",
              "      <th></th>\n",
              "      <th>y_true</th>\n",
              "      <th>prediksi_ExtraTreesClassifier</th>\n",
              "      <th>prediksi_RandomForestClassifier</th>\n",
              "      <th>prediksi_DecisionTreeClassifier</th>\n",
              "      <th>prediksi_AdaBoostClassifier</th>\n",
              "      <th>prediksi_SVC</th>\n",
              "      <th>prediksi_GaussianNB</th>\n",
              "    </tr>\n",
              "  </thead>\n",
              "  <tbody>\n",
              "    <tr>\n",
              "      <th>1195</th>\n",
              "      <td>0</td>\n",
              "      <td>0</td>\n",
              "      <td>0</td>\n",
              "      <td>0</td>\n",
              "      <td>0</td>\n",
              "      <td>0</td>\n",
              "      <td>0</td>\n",
              "    </tr>\n",
              "  </tbody>\n",
              "</table>\n",
              "</div>\n",
              "      <button class=\"colab-df-convert\" onclick=\"convertToInteractive('df-5c45f4bb-9683-48cf-a3f8-65eb63b5970c')\"\n",
              "              title=\"Convert this dataframe to an interactive table.\"\n",
              "              style=\"display:none;\">\n",
              "        \n",
              "  <svg xmlns=\"http://www.w3.org/2000/svg\" height=\"24px\"viewBox=\"0 0 24 24\"\n",
              "       width=\"24px\">\n",
              "    <path d=\"M0 0h24v24H0V0z\" fill=\"none\"/>\n",
              "    <path d=\"M18.56 5.44l.94 2.06.94-2.06 2.06-.94-2.06-.94-.94-2.06-.94 2.06-2.06.94zm-11 1L8.5 8.5l.94-2.06 2.06-.94-2.06-.94L8.5 2.5l-.94 2.06-2.06.94zm10 10l.94 2.06.94-2.06 2.06-.94-2.06-.94-.94-2.06-.94 2.06-2.06.94z\"/><path d=\"M17.41 7.96l-1.37-1.37c-.4-.4-.92-.59-1.43-.59-.52 0-1.04.2-1.43.59L10.3 9.45l-7.72 7.72c-.78.78-.78 2.05 0 2.83L4 21.41c.39.39.9.59 1.41.59.51 0 1.02-.2 1.41-.59l7.78-7.78 2.81-2.81c.8-.78.8-2.07 0-2.86zM5.41 20L4 18.59l7.72-7.72 1.47 1.35L5.41 20z\"/>\n",
              "  </svg>\n",
              "      </button>\n",
              "      \n",
              "  <style>\n",
              "    .colab-df-container {\n",
              "      display:flex;\n",
              "      flex-wrap:wrap;\n",
              "      gap: 12px;\n",
              "    }\n",
              "\n",
              "    .colab-df-convert {\n",
              "      background-color: #E8F0FE;\n",
              "      border: none;\n",
              "      border-radius: 50%;\n",
              "      cursor: pointer;\n",
              "      display: none;\n",
              "      fill: #1967D2;\n",
              "      height: 32px;\n",
              "      padding: 0 0 0 0;\n",
              "      width: 32px;\n",
              "    }\n",
              "\n",
              "    .colab-df-convert:hover {\n",
              "      background-color: #E2EBFA;\n",
              "      box-shadow: 0px 1px 2px rgba(60, 64, 67, 0.3), 0px 1px 3px 1px rgba(60, 64, 67, 0.15);\n",
              "      fill: #174EA6;\n",
              "    }\n",
              "\n",
              "    [theme=dark] .colab-df-convert {\n",
              "      background-color: #3B4455;\n",
              "      fill: #D2E3FC;\n",
              "    }\n",
              "\n",
              "    [theme=dark] .colab-df-convert:hover {\n",
              "      background-color: #434B5C;\n",
              "      box-shadow: 0px 1px 3px 1px rgba(0, 0, 0, 0.15);\n",
              "      filter: drop-shadow(0px 1px 2px rgba(0, 0, 0, 0.3));\n",
              "      fill: #FFFFFF;\n",
              "    }\n",
              "  </style>\n",
              "\n",
              "      <script>\n",
              "        const buttonEl =\n",
              "          document.querySelector('#df-5c45f4bb-9683-48cf-a3f8-65eb63b5970c button.colab-df-convert');\n",
              "        buttonEl.style.display =\n",
              "          google.colab.kernel.accessAllowed ? 'block' : 'none';\n",
              "\n",
              "        async function convertToInteractive(key) {\n",
              "          const element = document.querySelector('#df-5c45f4bb-9683-48cf-a3f8-65eb63b5970c');\n",
              "          const dataTable =\n",
              "            await google.colab.kernel.invokeFunction('convertToInteractive',\n",
              "                                                     [key], {});\n",
              "          if (!dataTable) return;\n",
              "\n",
              "          const docLinkHtml = 'Like what you see? Visit the ' +\n",
              "            '<a target=\"_blank\" href=https://colab.research.google.com/notebooks/data_table.ipynb>data table notebook</a>'\n",
              "            + ' to learn more about interactive tables.';\n",
              "          element.innerHTML = '';\n",
              "          dataTable['output_type'] = 'display_data';\n",
              "          await google.colab.output.renderOutput(dataTable, element);\n",
              "          const docLink = document.createElement('div');\n",
              "          docLink.innerHTML = docLinkHtml;\n",
              "          element.appendChild(docLink);\n",
              "        }\n",
              "      </script>\n",
              "    </div>\n",
              "  </div>\n",
              "  "
            ]
          },
          "metadata": {},
          "execution_count": 122
        }
      ]
    },
    {
      "cell_type": "code",
      "source": [
        "prediksi"
      ],
      "metadata": {
        "colab": {
          "base_uri": "https://localhost:8080/",
          "height": 81
        },
        "id": "NN8_h_2HnrsL",
        "outputId": "bc9d85cb-b4ee-4b74-fcd2-b014fa03ed3e"
      },
      "execution_count": null,
      "outputs": [
        {
          "output_type": "execute_result",
          "data": {
            "text/plain": [
              "      account_length  international_plan  voice_mail_plan  \\\n",
              "1195             103                   0                0   \n",
              "\n",
              "      number_vmail_messages  total_intl_charge  number_customer_service_calls  \\\n",
              "1195                      0               2.08                              1   \n",
              "\n",
              "      minutes  calls_cnt  total_charge  \n",
              "1195    526.9        290         52.23  "
            ],
            "text/html": [
              "\n",
              "  <div id=\"df-0f62ab0e-8654-4bd4-a9f4-574b950e30a2\">\n",
              "    <div class=\"colab-df-container\">\n",
              "      <div>\n",
              "<style scoped>\n",
              "    .dataframe tbody tr th:only-of-type {\n",
              "        vertical-align: middle;\n",
              "    }\n",
              "\n",
              "    .dataframe tbody tr th {\n",
              "        vertical-align: top;\n",
              "    }\n",
              "\n",
              "    .dataframe thead th {\n",
              "        text-align: right;\n",
              "    }\n",
              "</style>\n",
              "<table border=\"1\" class=\"dataframe\">\n",
              "  <thead>\n",
              "    <tr style=\"text-align: right;\">\n",
              "      <th></th>\n",
              "      <th>account_length</th>\n",
              "      <th>international_plan</th>\n",
              "      <th>voice_mail_plan</th>\n",
              "      <th>number_vmail_messages</th>\n",
              "      <th>total_intl_charge</th>\n",
              "      <th>number_customer_service_calls</th>\n",
              "      <th>minutes</th>\n",
              "      <th>calls_cnt</th>\n",
              "      <th>total_charge</th>\n",
              "    </tr>\n",
              "  </thead>\n",
              "  <tbody>\n",
              "    <tr>\n",
              "      <th>1195</th>\n",
              "      <td>103</td>\n",
              "      <td>0</td>\n",
              "      <td>0</td>\n",
              "      <td>0</td>\n",
              "      <td>2.08</td>\n",
              "      <td>1</td>\n",
              "      <td>526.9</td>\n",
              "      <td>290</td>\n",
              "      <td>52.23</td>\n",
              "    </tr>\n",
              "  </tbody>\n",
              "</table>\n",
              "</div>\n",
              "      <button class=\"colab-df-convert\" onclick=\"convertToInteractive('df-0f62ab0e-8654-4bd4-a9f4-574b950e30a2')\"\n",
              "              title=\"Convert this dataframe to an interactive table.\"\n",
              "              style=\"display:none;\">\n",
              "        \n",
              "  <svg xmlns=\"http://www.w3.org/2000/svg\" height=\"24px\"viewBox=\"0 0 24 24\"\n",
              "       width=\"24px\">\n",
              "    <path d=\"M0 0h24v24H0V0z\" fill=\"none\"/>\n",
              "    <path d=\"M18.56 5.44l.94 2.06.94-2.06 2.06-.94-2.06-.94-.94-2.06-.94 2.06-2.06.94zm-11 1L8.5 8.5l.94-2.06 2.06-.94-2.06-.94L8.5 2.5l-.94 2.06-2.06.94zm10 10l.94 2.06.94-2.06 2.06-.94-2.06-.94-.94-2.06-.94 2.06-2.06.94z\"/><path d=\"M17.41 7.96l-1.37-1.37c-.4-.4-.92-.59-1.43-.59-.52 0-1.04.2-1.43.59L10.3 9.45l-7.72 7.72c-.78.78-.78 2.05 0 2.83L4 21.41c.39.39.9.59 1.41.59.51 0 1.02-.2 1.41-.59l7.78-7.78 2.81-2.81c.8-.78.8-2.07 0-2.86zM5.41 20L4 18.59l7.72-7.72 1.47 1.35L5.41 20z\"/>\n",
              "  </svg>\n",
              "      </button>\n",
              "      \n",
              "  <style>\n",
              "    .colab-df-container {\n",
              "      display:flex;\n",
              "      flex-wrap:wrap;\n",
              "      gap: 12px;\n",
              "    }\n",
              "\n",
              "    .colab-df-convert {\n",
              "      background-color: #E8F0FE;\n",
              "      border: none;\n",
              "      border-radius: 50%;\n",
              "      cursor: pointer;\n",
              "      display: none;\n",
              "      fill: #1967D2;\n",
              "      height: 32px;\n",
              "      padding: 0 0 0 0;\n",
              "      width: 32px;\n",
              "    }\n",
              "\n",
              "    .colab-df-convert:hover {\n",
              "      background-color: #E2EBFA;\n",
              "      box-shadow: 0px 1px 2px rgba(60, 64, 67, 0.3), 0px 1px 3px 1px rgba(60, 64, 67, 0.15);\n",
              "      fill: #174EA6;\n",
              "    }\n",
              "\n",
              "    [theme=dark] .colab-df-convert {\n",
              "      background-color: #3B4455;\n",
              "      fill: #D2E3FC;\n",
              "    }\n",
              "\n",
              "    [theme=dark] .colab-df-convert:hover {\n",
              "      background-color: #434B5C;\n",
              "      box-shadow: 0px 1px 3px 1px rgba(0, 0, 0, 0.15);\n",
              "      filter: drop-shadow(0px 1px 2px rgba(0, 0, 0, 0.3));\n",
              "      fill: #FFFFFF;\n",
              "    }\n",
              "  </style>\n",
              "\n",
              "      <script>\n",
              "        const buttonEl =\n",
              "          document.querySelector('#df-0f62ab0e-8654-4bd4-a9f4-574b950e30a2 button.colab-df-convert');\n",
              "        buttonEl.style.display =\n",
              "          google.colab.kernel.accessAllowed ? 'block' : 'none';\n",
              "\n",
              "        async function convertToInteractive(key) {\n",
              "          const element = document.querySelector('#df-0f62ab0e-8654-4bd4-a9f4-574b950e30a2');\n",
              "          const dataTable =\n",
              "            await google.colab.kernel.invokeFunction('convertToInteractive',\n",
              "                                                     [key], {});\n",
              "          if (!dataTable) return;\n",
              "\n",
              "          const docLinkHtml = 'Like what you see? Visit the ' +\n",
              "            '<a target=\"_blank\" href=https://colab.research.google.com/notebooks/data_table.ipynb>data table notebook</a>'\n",
              "            + ' to learn more about interactive tables.';\n",
              "          element.innerHTML = '';\n",
              "          dataTable['output_type'] = 'display_data';\n",
              "          await google.colab.output.renderOutput(dataTable, element);\n",
              "          const docLink = document.createElement('div');\n",
              "          docLink.innerHTML = docLinkHtml;\n",
              "          element.appendChild(docLink);\n",
              "        }\n",
              "      </script>\n",
              "    </div>\n",
              "  </div>\n",
              "  "
            ]
          },
          "metadata": {},
          "execution_count": 123
        }
      ]
    }
  ]
}